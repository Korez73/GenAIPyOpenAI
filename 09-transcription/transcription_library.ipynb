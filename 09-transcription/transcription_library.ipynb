{
 "cells": [
  {
   "cell_type": "markdown",
   "id": "ba747273-a8c7-4650-b89c-24e1a0f9d8bd",
   "metadata": {
    "papermill": {
     "duration": 0.002326,
     "end_time": "2023-10-31T18:03:17.597234",
     "exception": false,
     "start_time": "2023-10-31T18:03:17.594908",
     "status": "completed"
    },
    "tags": []
   },
   "source": [
    "# Transcription"
   ]
  },
  {
   "cell_type": "code",
   "execution_count": 1,
   "id": "af1d526b-003e-41f3-a730-429c132ad1b0",
   "metadata": {
    "papermill": {
     "duration": 0.13888,
     "end_time": "2023-10-31T18:03:17.738588",
     "exception": false,
     "start_time": "2023-10-31T18:03:17.599708",
     "status": "completed"
    },
    "tags": []
   },
   "outputs": [],
   "source": [
    "import json\n",
    "import os\n",
    "import openai"
   ]
  },
  {
   "cell_type": "code",
   "execution_count": 2,
   "id": "0f076ab6-c89e-48a5-a278-25cfe6f2a01f",
   "metadata": {
    "papermill": {
     "duration": 0.008569,
     "end_time": "2023-10-31T18:03:17.748905",
     "exception": false,
     "start_time": "2023-10-31T18:03:17.740336",
     "status": "completed"
    },
    "tags": []
   },
   "outputs": [],
   "source": [
    "# A recommended way to store the key is in an environment variable. For this demo, I am storing in a file.\n",
    "key_location = '/Users/xavier/github/xmorera/ps-generative-ai-developing-applications-python-openai/key/genaikey.txt'\n",
    "\n",
    "with open(key_location, 'r') as file:\n",
    "    key = file.readline().strip()"
   ]
  },
  {
   "cell_type": "code",
   "execution_count": 3,
   "id": "0f30bfbd-24bf-49d0-a618-66234bb67994",
   "metadata": {
    "papermill": {
     "duration": 0.007498,
     "end_time": "2023-10-31T18:03:17.757858",
     "exception": false,
     "start_time": "2023-10-31T18:03:17.750360",
     "status": "completed"
    },
    "tags": []
   },
   "outputs": [],
   "source": [
    "openai.api_key = key"
   ]
  },
  {
   "cell_type": "code",
   "execution_count": 4,
   "id": "212f61c3-39f1-4462-b516-570ede6570f5",
   "metadata": {
    "papermill": {
     "duration": 0.376411,
     "end_time": "2023-10-31T18:03:18.135640",
     "exception": true,
     "start_time": "2023-10-31T18:03:17.759229",
     "status": "failed"
    },
    "tags": []
   },
   "outputs": [
    {
     "name": "stdout",
     "output_type": "stream",
     "text": [
      "{\n",
      "  \"text\": \"Two roads diverged in a wood, and I, I took the one less traveled by, and that has made all the difference.\"\n",
      "}\n"
     ]
    }
   ],
   "source": [
    "audio_file= open(\"./quote.mp3\", \"rb\")\n",
    "transcript = openai.Audio.transcribe(\"whisper-1\", audio_file)\n",
    "print(transcript)"
   ]
  }
 ],
 "metadata": {
  "kernelspec": {
   "display_name": "Python 3 (ipykernel)",
   "language": "python",
   "name": "python3"
  },
  "language_info": {
   "codemirror_mode": {
    "name": "ipython",
    "version": 3
   },
   "file_extension": ".py",
   "mimetype": "text/x-python",
   "name": "python",
   "nbconvert_exporter": "python",
   "pygments_lexer": "ipython3",
   "version": "3.9.1"
  },
  "papermill": {
   "default_parameters": {},
   "duration": 1.623218,
   "end_time": "2023-10-31T18:03:18.359430",
   "environment_variables": {},
   "exception": true,
   "input_path": "m4/09-transcription/transcription_library.ipynb",
   "output_path": "m4/09-transcription/transcription_library.ipynb",
   "parameters": {},
   "start_time": "2023-10-31T18:03:16.736212",
   "version": "2.4.0"
  }
 },
 "nbformat": 4,
 "nbformat_minor": 5
}
