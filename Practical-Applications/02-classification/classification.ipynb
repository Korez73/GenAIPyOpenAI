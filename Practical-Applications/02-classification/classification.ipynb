{
 "cells": [
  {
   "cell_type": "markdown",
   "id": "01af3848",
   "metadata": {
    "papermill": {
     "duration": 0.004241,
     "end_time": "2023-10-31T17:50:18.248235",
     "exception": false,
     "start_time": "2023-10-31T17:50:18.243994",
     "status": "completed"
    },
    "tags": []
   },
   "source": [
    "# Text Classification\n",
    "Categorizing text into predefined classes"
   ]
  },
  {
   "cell_type": "code",
   "execution_count": 1,
   "id": "4eaaeccf-a9d4-4a39-97dd-43c01b4caa7d",
   "metadata": {
    "execution": {
     "iopub.execute_input": "2023-10-31T17:50:18.256398Z",
     "iopub.status.busy": "2023-10-31T17:50:18.256015Z",
     "iopub.status.idle": "2023-10-31T17:50:18.261043Z",
     "shell.execute_reply": "2023-10-31T17:50:18.260339Z"
    },
    "papermill": {
     "duration": 0.011522,
     "end_time": "2023-10-31T17:50:18.263283",
     "exception": false,
     "start_time": "2023-10-31T17:50:18.251761",
     "status": "completed"
    },
    "tags": []
   },
   "outputs": [],
   "source": [
    "# !pip install openai"
   ]
  },
  {
   "cell_type": "code",
   "execution_count": 2,
   "id": "539dfa1e",
   "metadata": {
    "execution": {
     "iopub.execute_input": "2023-10-31T17:50:18.269839Z",
     "iopub.status.busy": "2023-10-31T17:50:18.269528Z",
     "iopub.status.idle": "2023-10-31T17:50:18.410420Z",
     "shell.execute_reply": "2023-10-31T17:50:18.409573Z"
    },
    "papermill": {
     "duration": 0.146865,
     "end_time": "2023-10-31T17:50:18.412681",
     "exception": false,
     "start_time": "2023-10-31T17:50:18.265816",
     "status": "completed"
    },
    "tags": []
   },
   "outputs": [],
   "source": [
    "import openai\n",
    "import os"
   ]
  },
  {
   "cell_type": "code",
   "execution_count": 3,
   "id": "2e5860d6-57a3-4ec7-9c8c-e5573eb0d3b1",
   "metadata": {
    "execution": {
     "iopub.execute_input": "2023-10-31T17:50:18.420255Z",
     "iopub.status.busy": "2023-10-31T17:50:18.419897Z",
     "iopub.status.idle": "2023-10-31T17:50:18.424395Z",
     "shell.execute_reply": "2023-10-31T17:50:18.423637Z"
    },
    "papermill": {
     "duration": 0.010883,
     "end_time": "2023-10-31T17:50:18.426667",
     "exception": false,
     "start_time": "2023-10-31T17:50:18.415784",
     "status": "completed"
    },
    "tags": []
   },
   "outputs": [],
   "source": [
    "# A recommended way to store the key is in an environment variable. For this demo, I am storing in a file.\n",
    "key_location = '/Users/xavier/github/xmorera/ps-generative-ai-developing-applications-python-openai/key/genaikey.txt'\n",
    "\n",
    "with open(key_location, 'r') as file:\n",
    "    key = file.readline().strip()"
   ]
  },
  {
   "cell_type": "code",
   "execution_count": 4,
   "id": "a57e3fea-3714-4d57-9904-faad4d4631f8",
   "metadata": {
    "execution": {
     "iopub.execute_input": "2023-10-31T17:50:18.432683Z",
     "iopub.status.busy": "2023-10-31T17:50:18.432383Z",
     "iopub.status.idle": "2023-10-31T17:50:18.435689Z",
     "shell.execute_reply": "2023-10-31T17:50:18.435014Z"
    },
    "papermill": {
     "duration": 0.008538,
     "end_time": "2023-10-31T17:50:18.437692",
     "exception": false,
     "start_time": "2023-10-31T17:50:18.429154",
     "status": "completed"
    },
    "tags": []
   },
   "outputs": [],
   "source": [
    "openai.api_key = key"
   ]
  },
  {
   "cell_type": "code",
   "execution_count": 5,
   "id": "537e02ff",
   "metadata": {
    "execution": {
     "iopub.execute_input": "2023-10-31T17:50:18.443915Z",
     "iopub.status.busy": "2023-10-31T17:50:18.443580Z",
     "iopub.status.idle": "2023-10-31T17:50:18.448320Z",
     "shell.execute_reply": "2023-10-31T17:50:18.447700Z"
    },
    "papermill": {
     "duration": 0.010226,
     "end_time": "2023-10-31T17:50:18.450231",
     "exception": false,
     "start_time": "2023-10-31T17:50:18.440005",
     "status": "completed"
    },
    "tags": []
   },
   "outputs": [],
   "source": [
    "def make_openai_request(prompt):\n",
    "    \"\"\"Takes a prompt as an argument and sends a POST request to the OpenAI API\"\"\"\n",
    "    response = openai.ChatCompletion.create(\n",
    "    model=\"gpt-3.5-turbo\",\n",
    "    messages=[{\"role\": \"user\",\"content\": prompt}],\n",
    "    temperature=0.7\n",
    "    )\n",
    "\n",
    "    # Extract the generated labels from the API response\n",
    "    return response[\"choices\"][0][\"message\"][\"content\"].split(\"\\n\")"
   ]
  },
  {
   "cell_type": "code",
   "execution_count": 6,
   "id": "50f7896f",
   "metadata": {
    "execution": {
     "iopub.execute_input": "2023-10-31T17:50:18.456176Z",
     "iopub.status.busy": "2023-10-31T17:50:18.455897Z",
     "iopub.status.idle": "2023-10-31T17:50:18.460387Z",
     "shell.execute_reply": "2023-10-31T17:50:18.459730Z"
    },
    "papermill": {
     "duration": 0.009743,
     "end_time": "2023-10-31T17:50:18.462320",
     "exception": false,
     "start_time": "2023-10-31T17:50:18.452577",
     "status": "completed"
    },
    "tags": []
   },
   "outputs": [],
   "source": [
    "# List of customer feedback messages\n",
    "feedback_messages =  [\n",
    "    \"I absolutely love the product! It's even better than I hoped for.\",\n",
    "    \"The shipping took longer than expected, but the product arrived in perfect condition.\",\n",
    "    \"I'm really pleased with my purchase. It's high-quality and exactly what I wanted.\",\n",
    "    \"I had a horrible experience. The item I received looks nothing like the description.\",\n",
    "    \"The customer support team went above and beyond to help me with my problem.\",\n",
    "    \"The product is fantastic! It exceeded my expectations by a mile.\",\n",
    "    \"The packaging was a bit damaged, but the product inside was flawless.\",\n",
    "    \"I'm happy with my purchase. The quality is top-notch.\",\n",
    "    \"I'm extremely disappointed. The product doesn't match what was advertised.\",\n",
    "    \"Kudos to the customer service team for their prompt assistance in resolving my issue.\"\n",
    "]"
   ]
  },
  {
   "cell_type": "code",
   "execution_count": 7,
   "id": "776053a1",
   "metadata": {
    "execution": {
     "iopub.execute_input": "2023-10-31T17:50:18.468198Z",
     "iopub.status.busy": "2023-10-31T17:50:18.467917Z",
     "iopub.status.idle": "2023-10-31T17:50:18.471718Z",
     "shell.execute_reply": "2023-10-31T17:50:18.471068Z"
    },
    "papermill": {
     "duration": 0.009027,
     "end_time": "2023-10-31T17:50:18.473651",
     "exception": false,
     "start_time": "2023-10-31T17:50:18.464624",
     "status": "completed"
    },
    "tags": []
   },
   "outputs": [],
   "source": [
    "# Prepare the prompt for sentiment classification\n",
    "prompt = \"\"\"\n",
    "Classify the following customer feedback into positive, neutral, or negative sentiment:\n",
    "\n",
    "\"\"\"\n",
    "for message in feedback_messages:\n",
    "    prompt += f\"- {message}\\n\""
   ]
  },
  {
   "cell_type": "code",
   "execution_count": 8,
   "id": "88a3103d-23ed-4953-9e3d-1153ae9e7c4a",
   "metadata": {
    "execution": {
     "iopub.execute_input": "2023-10-31T17:50:18.479487Z",
     "iopub.status.busy": "2023-10-31T17:50:18.479200Z",
     "iopub.status.idle": "2023-10-31T17:50:34.201816Z",
     "shell.execute_reply": "2023-10-31T17:50:34.200515Z"
    },
    "papermill": {
     "duration": 15.728781,
     "end_time": "2023-10-31T17:50:34.204770",
     "exception": false,
     "start_time": "2023-10-31T17:50:18.475989",
     "status": "completed"
    },
    "tags": []
   },
   "outputs": [],
   "source": [
    "# Extract the generated classifications from the API response\n",
    "classifications = make_openai_request(prompt)"
   ]
  },
  {
   "cell_type": "code",
   "execution_count": 9,
   "id": "0be576c8-b2fb-46f2-89e1-1372c32dc8ba",
   "metadata": {
    "execution": {
     "iopub.execute_input": "2023-10-31T17:50:34.213420Z",
     "iopub.status.busy": "2023-10-31T17:50:34.213052Z",
     "iopub.status.idle": "2023-10-31T17:50:34.217937Z",
     "shell.execute_reply": "2023-10-31T17:50:34.217195Z"
    },
    "papermill": {
     "duration": 0.011612,
     "end_time": "2023-10-31T17:50:34.220320",
     "exception": false,
     "start_time": "2023-10-31T17:50:34.208708",
     "status": "completed"
    },
    "tags": []
   },
   "outputs": [
    {
     "name": "stdout",
     "output_type": "stream",
     "text": [
      "1: Positive sentiment:\n",
      "2: - I absolutely love the product! It's even better than I hoped for.\n",
      "3: - I'm really pleased with my purchase. It's high-quality and exactly what I wanted.\n",
      "4: - The customer support team went above and beyond to help me with my problem.\n",
      "5: - The product is fantastic! It exceeded my expectations by a mile.\n",
      "6: - I'm happy with my purchase. The quality is top-notch.\n",
      "7: - Kudos to the customer service team for their prompt assistance in resolving my issue.\n",
      "8: \n",
      "9: Neutral sentiment:\n",
      "10: - The shipping took longer than expected, but the product arrived in perfect condition.\n",
      "11: - The packaging was a bit damaged, but the product inside was flawless.\n",
      "12: \n",
      "13: Negative sentiment:\n",
      "14: - I had a horrible experience. The item I received looks nothing like the description.\n",
      "15: - I'm extremely disappointed. The product doesn't match what was advertised.\n"
     ]
    }
   ],
   "source": [
    "# Print the generated classifications\n",
    "for i, classification in enumerate(classifications):\n",
    "    print(f\"{i + 1}: {classification}\")"
   ]
  }
 ],
 "metadata": {
  "kernelspec": {
   "display_name": "Python 3 (ipykernel)",
   "language": "python",
   "name": "python3"
  },
  "language_info": {
   "codemirror_mode": {
    "name": "ipython",
    "version": 3
   },
   "file_extension": ".py",
   "mimetype": "text/x-python",
   "name": "python",
   "nbconvert_exporter": "python",
   "pygments_lexer": "ipython3",
   "version": "3.9.1"
  },
  "papermill": {
   "default_parameters": {},
   "duration": 17.02858,
   "end_time": "2023-10-31T17:50:34.444057",
   "environment_variables": {},
   "exception": null,
   "input_path": "m6/02-classification/classification.ipynb",
   "output_path": "m6/02-classification/classification.ipynb",
   "parameters": {},
   "start_time": "2023-10-31T17:50:17.415477",
   "version": "2.4.0"
  }
 },
 "nbformat": 4,
 "nbformat_minor": 5
}