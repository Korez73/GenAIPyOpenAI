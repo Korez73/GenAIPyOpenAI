{
 "cells": [
  {
   "cell_type": "markdown",
   "id": "01af3848",
   "metadata": {
    "papermill": {
     "duration": 0.004467,
     "end_time": "2023-10-31T17:39:39.329322",
     "exception": false,
     "start_time": "2023-10-31T17:39:39.324855",
     "status": "completed"
    },
    "tags": []
   },
   "source": [
    "# Sentiment Analysis\n",
    "Determining the sentiment expressed in text"
   ]
  },
  {
   "cell_type": "code",
   "execution_count": 1,
   "id": "55eedd9a-eda6-4c92-b265-249add73acc6",
   "metadata": {
    "papermill": {
     "duration": 0.011553,
     "end_time": "2023-10-31T17:39:39.344759",
     "exception": false,
     "start_time": "2023-10-31T17:39:39.333206",
     "status": "completed"
    },
    "tags": []
   },
   "outputs": [],
   "source": [
    "# !pip install openai "
   ]
  },
  {
   "cell_type": "code",
   "execution_count": 2,
   "id": "539dfa1e",
   "metadata": {
    "papermill": {
     "duration": 0.133942,
     "end_time": "2023-10-31T17:39:39.481626",
     "exception": false,
     "start_time": "2023-10-31T17:39:39.347684",
     "status": "completed"
    },
    "tags": []
   },
   "outputs": [],
   "source": [
    "import openai\n",
    "import os"
   ]
  },
  {
   "cell_type": "code",
   "execution_count": 3,
   "id": "3a93e933-5f33-4326-8465-ab48dfa39d3d",
   "metadata": {
    "papermill": {
     "duration": 0.008776,
     "end_time": "2023-10-31T17:39:39.492794",
     "exception": false,
     "start_time": "2023-10-31T17:39:39.484018",
     "status": "completed"
    },
    "tags": []
   },
   "outputs": [],
   "source": [
    "# A recommended way to store the key is in an environment variable. For this demo, I am storing in a file.\n",
    "key_location = '/Users/xavier/github/xmorera/ps-generative-ai-developing-applications-python-openai/key/genaikey.txt'\n",
    "# key_location = 'C:\\ps-gen-openai-python\\key\\genaikey.txt'\n",
    "\n",
    "with open(key_location, 'r') as file:\n",
    "    key = file.readline().strip()"
   ]
  },
  {
   "cell_type": "code",
   "execution_count": 4,
   "id": "4b91d670-2eac-40ed-a762-1fe0575cfbbe",
   "metadata": {
    "papermill": {
     "duration": 0.00865,
     "end_time": "2023-10-31T17:39:39.503711",
     "exception": false,
     "start_time": "2023-10-31T17:39:39.495061",
     "status": "completed"
    },
    "tags": []
   },
   "outputs": [],
   "source": [
    "openai.api_key = key"
   ]
  },
  {
   "cell_type": "code",
   "execution_count": 5,
   "id": "537e02ff",
   "metadata": {
    "papermill": {
     "duration": 0.009844,
     "end_time": "2023-10-31T17:39:39.515786",
     "exception": false,
     "start_time": "2023-10-31T17:39:39.505942",
     "status": "completed"
    },
    "tags": []
   },
   "outputs": [],
   "source": [
    "def make_openai_request(prompt):\n",
    "    \"\"\"Takes a prompt as an argument and sends a POST request to the OpenAI API\"\"\"\n",
    "    response = openai.ChatCompletion.create(\n",
    "    model=\"gpt-3.5-turbo\",\n",
    "    messages=[{\"role\": \"user\",\"content\": prompt}],\n",
    "    temperature=0,\n",
    "    max_tokens=256\n",
    "    )\n",
    "\n",
    "    # Extract the generated labels from the API response\n",
    "    return response[\"choices\"][0][\"message\"][\"content\"].split(\"\\n\")"
   ]
  },
  {
   "cell_type": "code",
   "execution_count": 6,
   "id": "50f7896f",
   "metadata": {
    "papermill": {
     "duration": 0.009045,
     "end_time": "2023-10-31T17:39:39.527269",
     "exception": false,
     "start_time": "2023-10-31T17:39:39.518224",
     "status": "completed"
    },
    "tags": []
   },
   "outputs": [],
   "source": [
    "# List of social media posts\n",
    "posts = [\n",
    "    \"I'm overjoyed! I just received the best news of my life.\",\n",
    "    \"I can't believe how angry I am right now. This situation is infuriating.\",\n",
    "    \"Feeling really sad today. I miss my old friends a lot.\",\n",
    "    \"I'm pleasantly surprised by the unexpected gift I received today!\",\n",
    "    \"I'm so happy for my friend who just got engaged!\",\n",
    "    \"This terrible customer service experience is making me furious!\",\n",
    "    \"Received some bad news today, and I'm feeling quite down.\",\n",
    "    \"Surprised by the amazing talent showcased at the talent show tonight!\",\n",
    "    \"I'm ecstatic about my upcoming vacation. Can't wait!\",\n",
    "    \"I'm furious with myself for making such a careless mistake.\"\n",
    "]"
   ]
  },
  {
   "cell_type": "code",
   "execution_count": 7,
   "id": "776053a1",
   "metadata": {
    "papermill": {
     "duration": 0.008827,
     "end_time": "2023-10-31T17:39:39.538458",
     "exception": false,
     "start_time": "2023-10-31T17:39:39.529631",
     "status": "completed"
    },
    "tags": []
   },
   "outputs": [],
   "source": [
    "# Prepare the prompt for sentiment analysis\n",
    "prompt = \"\"\"\n",
    "Analyze the sentiment of the following customer posts and provide a base sentiment label, like happy, angry, etc.\\n\n",
    "\"\"\"\n",
    "for post in posts:\n",
    "    prompt += f\"- \\\"{post}\\\"\\n\""
   ]
  },
  {
   "cell_type": "code",
   "execution_count": 8,
   "id": "a4b1e55a-ca54-4dd1-9f4e-02930c212323",
   "metadata": {
    "papermill": {
     "duration": 601.26375,
     "end_time": "2023-10-31T17:49:40.804574",
     "exception": true,
     "start_time": "2023-10-31T17:39:39.540824",
     "status": "failed"
    },
    "tags": []
   },
   "outputs": [],
   "source": [
    "# Extract the generated sentiment labels from the API response\n",
    "sentiments = make_openai_request(prompt)"
   ]
  },
  {
   "cell_type": "code",
   "execution_count": 9,
   "id": "a3040909-3367-44c7-8dad-92e8c7f8d714",
   "metadata": {
    "papermill": {
     "duration": null,
     "end_time": null,
     "exception": null,
     "start_time": null,
     "status": "pending"
    },
    "tags": []
   },
   "outputs": [
    {
     "name": "stdout",
     "output_type": "stream",
     "text": [
      "- \"I'm overjoyed! I just received the best news of my life.\" - happy\n",
      "- \"I can't believe how angry I am right now. This situation is infuriating.\" - angry\n",
      "- \"Feeling really sad today. I miss my old friends a lot.\" - sad\n",
      "- \"I'm pleasantly surprised by the unexpected gift I received today!\" - happy\n",
      "- \"I'm so happy for my friend who just got engaged!\" - happy\n",
      "- \"This terrible customer service experience is making me furious!\" - angry\n",
      "- \"Received some bad news today, and I'm feeling quite down.\" - sad\n",
      "- \"Surprised by the amazing talent showcased at the talent show tonight!\" - happy\n",
      "- \"I'm ecstatic about my upcoming vacation. Can't wait!\" - happy\n",
      "- \"I'm furious with myself for making such a careless mistake.\" - angry\n"
     ]
    }
   ],
   "source": [
    "# Print the generated sentiment labels\n",
    "for i, sentiment in enumerate(sentiments):\n",
    "    print(sentiment)"
   ]
  }
 ],
 "metadata": {
  "kernelspec": {
   "display_name": "Python 3 (ipykernel)",
   "language": "python",
   "name": "python3"
  },
  "language_info": {
   "codemirror_mode": {
    "name": "ipython",
    "version": 3
   },
   "file_extension": ".py",
   "mimetype": "text/x-python",
   "name": "python",
   "nbconvert_exporter": "python",
   "pygments_lexer": "ipython3",
   "version": "3.9.1"
  },
  "papermill": {
   "default_parameters": {},
   "duration": 602.859556,
   "end_time": "2023-10-31T17:49:41.133689",
   "environment_variables": {},
   "exception": true,
   "input_path": "m6/03-sentiment-analysis/sentiment-analysis.ipynb",
   "output_path": "m6/03-sentiment-analysis/sentiment-analysis.ipynb",
   "parameters": {},
   "start_time": "2023-10-31T17:39:38.274133",
   "version": "2.4.0"
  }
 },
 "nbformat": 4,
 "nbformat_minor": 5
}
