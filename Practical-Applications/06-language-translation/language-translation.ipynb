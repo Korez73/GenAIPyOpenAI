{
 "cells": [
  {
   "cell_type": "markdown",
   "id": "01af3848",
   "metadata": {
    "papermill": {
     "duration": 0.004433,
     "end_time": "2023-10-31T17:49:56.877463",
     "exception": false,
     "start_time": "2023-10-31T17:49:56.873030",
     "status": "completed"
    },
    "tags": []
   },
   "source": [
    "# Language Translation\n",
    "Translating text between different languages"
   ]
  },
  {
   "cell_type": "code",
   "execution_count": 1,
   "id": "02ad47c3-93f7-41ac-b897-2272fbaa3e57",
   "metadata": {
    "execution": {
     "iopub.execute_input": "2023-10-31T17:49:56.885606Z",
     "iopub.status.busy": "2023-10-31T17:49:56.885270Z",
     "iopub.status.idle": "2023-10-31T17:49:56.890414Z",
     "shell.execute_reply": "2023-10-31T17:49:56.889638Z"
    },
    "papermill": {
     "duration": 0.011889,
     "end_time": "2023-10-31T17:49:56.893067",
     "exception": false,
     "start_time": "2023-10-31T17:49:56.881178",
     "status": "completed"
    },
    "tags": []
   },
   "outputs": [],
   "source": [
    "# !pip install openai"
   ]
  },
  {
   "cell_type": "code",
   "execution_count": 2,
   "id": "539dfa1e",
   "metadata": {
    "execution": {
     "iopub.execute_input": "2023-10-31T17:49:56.899456Z",
     "iopub.status.busy": "2023-10-31T17:49:56.899138Z",
     "iopub.status.idle": "2023-10-31T17:49:57.029758Z",
     "shell.execute_reply": "2023-10-31T17:49:57.029240Z"
    },
    "papermill": {
     "duration": 0.135999,
     "end_time": "2023-10-31T17:49:57.031647",
     "exception": false,
     "start_time": "2023-10-31T17:49:56.895648",
     "status": "completed"
    },
    "tags": []
   },
   "outputs": [],
   "source": [
    "import openai\n",
    "import os"
   ]
  },
  {
   "cell_type": "code",
   "execution_count": 3,
   "id": "53e4b1d4-c051-44aa-8739-7becfb60bea8",
   "metadata": {
    "execution": {
     "iopub.execute_input": "2023-10-31T17:49:57.037466Z",
     "iopub.status.busy": "2023-10-31T17:49:57.037090Z",
     "iopub.status.idle": "2023-10-31T17:49:57.041300Z",
     "shell.execute_reply": "2023-10-31T17:49:57.040695Z"
    },
    "papermill": {
     "duration": 0.009448,
     "end_time": "2023-10-31T17:49:57.043471",
     "exception": false,
     "start_time": "2023-10-31T17:49:57.034023",
     "status": "completed"
    },
    "tags": []
   },
   "outputs": [],
   "source": [
    "# A recommended way to store the key is in an environment variable. For this demo, I am storing in a file.\n",
    "key_location = '/Users/xavier/github/xmorera/ps-generative-ai-developing-applications-python-openai/key/genaikey.txt'\n",
    "# key_location = 'C:\\ps-gen-openai-python\\key\\genaikey.txt'\n",
    "\n",
    "with open(key_location, 'r') as file:\n",
    "    key = file.readline().strip()"
   ]
  },
  {
   "cell_type": "code",
   "execution_count": 4,
   "id": "bb1f521b-a15b-435a-acce-34be9e178c9b",
   "metadata": {
    "execution": {
     "iopub.execute_input": "2023-10-31T17:49:57.049426Z",
     "iopub.status.busy": "2023-10-31T17:49:57.049126Z",
     "iopub.status.idle": "2023-10-31T17:49:57.052442Z",
     "shell.execute_reply": "2023-10-31T17:49:57.051819Z"
    },
    "papermill": {
     "duration": 0.008609,
     "end_time": "2023-10-31T17:49:57.054294",
     "exception": false,
     "start_time": "2023-10-31T17:49:57.045685",
     "status": "completed"
    },
    "tags": []
   },
   "outputs": [],
   "source": [
    "# OpenAI API key\n",
    "openai.api_key = key"
   ]
  },
  {
   "cell_type": "code",
   "execution_count": 5,
   "id": "537e02ff",
   "metadata": {
    "execution": {
     "iopub.execute_input": "2023-10-31T17:49:57.060796Z",
     "iopub.status.busy": "2023-10-31T17:49:57.060503Z",
     "iopub.status.idle": "2023-10-31T17:49:57.065324Z",
     "shell.execute_reply": "2023-10-31T17:49:57.064682Z"
    },
    "papermill": {
     "duration": 0.010683,
     "end_time": "2023-10-31T17:49:57.067253",
     "exception": false,
     "start_time": "2023-10-31T17:49:57.056570",
     "status": "completed"
    },
    "tags": []
   },
   "outputs": [],
   "source": [
    "def make_openai_request(prompt):\n",
    "    \"\"\"Takes a prompt as an argument and sends a POST request to the OpenAI API\"\"\"\n",
    "    response = openai.ChatCompletion.create(\n",
    "    model=\"gpt-3.5-turbo\",\n",
    "    messages=[{\"role\": \"user\",\"content\": prompt}],\n",
    "    temperature=0,\n",
    "    max_tokens=256\n",
    "    )\n",
    "\n",
    "    # Extract the generated labels from the API response\n",
    "    return response[\"choices\"][0][\"message\"][\"content\"].split(\"\\n\")"
   ]
  },
  {
   "cell_type": "code",
   "execution_count": 6,
   "id": "50f7896f",
   "metadata": {
    "execution": {
     "iopub.execute_input": "2023-10-31T17:49:57.073140Z",
     "iopub.status.busy": "2023-10-31T17:49:57.072849Z",
     "iopub.status.idle": "2023-10-31T17:49:57.076010Z",
     "shell.execute_reply": "2023-10-31T17:49:57.075380Z"
    },
    "papermill": {
     "duration": 0.008336,
     "end_time": "2023-10-31T17:49:57.078038",
     "exception": false,
     "start_time": "2023-10-31T17:49:57.069702",
     "status": "completed"
    },
    "tags": []
   },
   "outputs": [],
   "source": [
    "input_text = \"\"\"\n",
    "Xavier Morera is currently working as fast as he can to create this course, because he is very close to the deadline.\n",
    "\"\"\""
   ]
  },
  {
   "cell_type": "code",
   "execution_count": 7,
   "id": "776053a1",
   "metadata": {
    "execution": {
     "iopub.execute_input": "2023-10-31T17:49:57.083627Z",
     "iopub.status.busy": "2023-10-31T17:49:57.083375Z",
     "iopub.status.idle": "2023-10-31T17:49:57.086409Z",
     "shell.execute_reply": "2023-10-31T17:49:57.085811Z"
    },
    "papermill": {
     "duration": 0.007934,
     "end_time": "2023-10-31T17:49:57.088209",
     "exception": false,
     "start_time": "2023-10-31T17:49:57.080275",
     "status": "completed"
    },
    "tags": []
   },
   "outputs": [],
   "source": [
    "prompt=\"Translate the following text from English to German:\\n\" + input_text"
   ]
  },
  {
   "cell_type": "code",
   "execution_count": 8,
   "id": "f49e1ebd-b209-4381-b70c-e2d5613aa3b4",
   "metadata": {
    "execution": {
     "iopub.execute_input": "2023-10-31T17:49:57.094930Z",
     "iopub.status.busy": "2023-10-31T17:49:57.094439Z",
     "iopub.status.idle": "2023-10-31T17:50:00.540313Z",
     "shell.execute_reply": "2023-10-31T17:50:00.539000Z"
    },
    "papermill": {
     "duration": 3.452268,
     "end_time": "2023-10-31T17:50:00.543051",
     "exception": false,
     "start_time": "2023-10-31T17:49:57.090783",
     "status": "completed"
    },
    "tags": []
   },
   "outputs": [],
   "source": [
    "translation = make_openai_request(prompt)"
   ]
  },
  {
   "cell_type": "code",
   "execution_count": 9,
   "id": "9735c7a9-2937-413c-b729-66da66cb17ab",
   "metadata": {
    "execution": {
     "iopub.execute_input": "2023-10-31T17:50:00.550915Z",
     "iopub.status.busy": "2023-10-31T17:50:00.550582Z",
     "iopub.status.idle": "2023-10-31T17:50:00.554859Z",
     "shell.execute_reply": "2023-10-31T17:50:00.554037Z"
    },
    "papermill": {
     "duration": 0.011002,
     "end_time": "2023-10-31T17:50:00.557468",
     "exception": false,
     "start_time": "2023-10-31T17:50:00.546466",
     "status": "completed"
    },
    "tags": []
   },
   "outputs": [
    {
     "name": "stdout",
     "output_type": "stream",
     "text": [
      "['Xavier Morera arbeitet derzeit so schnell wie möglich daran, diesen Kurs zu erstellen, da er dem Abgabetermin sehr nahe ist.']\n"
     ]
    }
   ],
   "source": [
    "print(translation)"
   ]
  }
 ],
 "metadata": {
  "kernelspec": {
   "display_name": "Python 3 (ipykernel)",
   "language": "python",
   "name": "python3"
  },
  "language_info": {
   "codemirror_mode": {
    "name": "ipython",
    "version": 3
   },
   "file_extension": ".py",
   "mimetype": "text/x-python",
   "name": "python",
   "nbconvert_exporter": "python",
   "pygments_lexer": "ipython3",
   "version": "3.9.1"
  },
  "papermill": {
   "default_parameters": {},
   "duration": 4.799489,
   "end_time": "2023-10-31T17:50:00.783848",
   "environment_variables": {},
   "exception": null,
   "input_path": "m6/06-language-translation/language-translation.ipynb",
   "output_path": "m6/06-language-translation/language-translation.ipynb",
   "parameters": {},
   "start_time": "2023-10-31T17:49:55.984359",
   "version": "2.4.0"
  }
 },
 "nbformat": 4,
 "nbformat_minor": 5
}