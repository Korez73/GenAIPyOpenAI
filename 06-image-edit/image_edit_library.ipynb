{
 "cells": [
  {
   "cell_type": "markdown",
   "id": "b875ca6d-ed3e-4d16-9479-48221f89e439",
   "metadata": {
    "papermill": {
     "duration": 0.00415,
     "end_time": "2023-10-31T18:02:49.499912",
     "exception": false,
     "start_time": "2023-10-31T18:02:49.495762",
     "status": "completed"
    },
    "tags": []
   },
   "source": [
    "# Editing Images with the Library"
   ]
  },
  {
   "cell_type": "code",
   "execution_count": 1,
   "id": "75191737-1e80-49b1-897a-20c5e2b1751b",
   "metadata": {
    "papermill": {
     "duration": 0.173777,
     "end_time": "2023-10-31T18:02:49.696520",
     "exception": false,
     "start_time": "2023-10-31T18:02:49.522743",
     "status": "completed"
    },
    "tags": []
   },
   "outputs": [],
   "source": [
    "import json\n",
    "import os\n",
    "import openai"
   ]
  },
  {
   "cell_type": "code",
   "execution_count": 2,
   "id": "df480ac1-cf13-4112-b637-82486a16dbea",
   "metadata": {
    "papermill": {
     "duration": 0.009259,
     "end_time": "2023-10-31T18:02:49.707437",
     "exception": false,
     "start_time": "2023-10-31T18:02:49.698178",
     "status": "completed"
    },
    "tags": []
   },
   "outputs": [],
   "source": [
    "# A recommended way to store the key is in an environment variable. For this demo, I am storing in a file.\n",
    "key_location = '/Users/xavier/github/xmorera/ps-generative-ai-developing-applications-python-openai/key/genaikey.txt'\n",
    "\n",
    "with open(key_location, 'r') as file:\n",
    "    key = file.readline().strip()"
   ]
  },
  {
   "cell_type": "code",
   "execution_count": 3,
   "id": "4c2d2c0d-dfa4-4bba-b00f-1ecd69bd7de6",
   "metadata": {
    "papermill": {
     "duration": 0.00694,
     "end_time": "2023-10-31T18:02:49.715612",
     "exception": false,
     "start_time": "2023-10-31T18:02:49.708672",
     "status": "completed"
    },
    "tags": []
   },
   "outputs": [],
   "source": [
    "openai.api_key = key"
   ]
  },
  {
   "cell_type": "code",
   "execution_count": 4,
   "id": "b710de0e-2c86-4a58-9e33-d3d86b6f6169",
   "metadata": {
    "papermill": {
     "duration": 0.370794,
     "end_time": "2023-10-31T18:02:50.087908",
     "exception": true,
     "start_time": "2023-10-31T18:02:49.717114",
     "status": "failed"
    },
    "tags": []
   },
   "outputs": [
    {
     "name": "stdout",
     "output_type": "stream",
     "text": [
      "https://oaidalleapiprodscus.blob.core.windows.net/private/org-5RT96wzAeptvdxUArfPyjQCx/user-msm2q1UYRaZHPsPBneOsF8gB/img-PNoXY5wILHezWD1puRUeu8rz.png?st=2023-10-31T18%3A14%3A42Z&se=2023-10-31T20%3A14%3A42Z&sp=r&sv=2021-08-06&sr=b&rscd=inline&rsct=image/png&skoid=6aaadede-4fb3-4698-a8f6-684d7786b067&sktid=a48cca56-e6da-484e-a814-9c849652bcb3&skt=2023-10-31T00%3A47%3A25Z&ske=2023-11-01T00%3A47%3A25Z&sks=b&skv=2021-08-06&sig=FTXAh9gY/s2qzoPLXlQ/sqdj%2Bm6IeOmSBHAJD3/xNsM%3D\n"
     ]
    }
   ],
   "source": [
    "library_response = openai.Image.create_edit(\n",
    "  image=open(\"./otter1.png\", \"rb\"),\n",
    "  mask=open(\"./mask1.png\", \"rb\"),\n",
    "  prompt=\"A cute baby sea otter wearing a beret\",\n",
    "  n=1,\n",
    "  size=\"1024x1024\"\n",
    ")\n",
    "image_url = library_response['data'][0]['url']\n",
    "print(image_url)"
   ]
  }
 ],
 "metadata": {
  "kernelspec": {
   "display_name": "Python 3 (ipykernel)",
   "language": "python",
   "name": "python3"
  },
  "language_info": {
   "codemirror_mode": {
    "name": "ipython",
    "version": 3
   },
   "file_extension": ".py",
   "mimetype": "text/x-python",
   "name": "python",
   "nbconvert_exporter": "python",
   "pygments_lexer": "ipython3",
   "version": "3.9.1"
  },
  "papermill": {
   "default_parameters": {},
   "duration": 1.696293,
   "end_time": "2023-10-31T18:02:50.314974",
   "environment_variables": {},
   "exception": true,
   "input_path": "m4/06-image-edit/image_edit_library.ipynb",
   "output_path": "m4/06-image-edit/image_edit_library.ipynb",
   "parameters": {},
   "start_time": "2023-10-31T18:02:48.618681",
   "version": "2.4.0"
  }
 },
 "nbformat": 4,
 "nbformat_minor": 5
}
