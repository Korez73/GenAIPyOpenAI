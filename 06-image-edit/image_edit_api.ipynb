{
 "cells": [
  {
   "cell_type": "markdown",
   "id": "46bb930b-6eb6-4d60-8702-e61a13a2a5b1",
   "metadata": {
    "papermill": {
     "duration": 0.002797,
     "end_time": "2023-10-31T18:02:51.254200",
     "exception": false,
     "start_time": "2023-10-31T18:02:51.251403",
     "status": "completed"
    },
    "tags": []
   },
   "source": [
    "# Editing Images with the API"
   ]
  },
  {
   "cell_type": "code",
   "execution_count": 1,
   "id": "75191737-1e80-49b1-897a-20c5e2b1751b",
   "metadata": {
    "papermill": {
     "duration": 0.068223,
     "end_time": "2023-10-31T18:02:51.325110",
     "exception": false,
     "start_time": "2023-10-31T18:02:51.256887",
     "status": "completed"
    },
    "tags": []
   },
   "outputs": [],
   "source": [
    "import json\n",
    "import os\n",
    "import requests"
   ]
  },
  {
   "cell_type": "code",
   "execution_count": 2,
   "id": "df480ac1-cf13-4112-b637-82486a16dbea",
   "metadata": {
    "papermill": {
     "duration": 0.010408,
     "end_time": "2023-10-31T18:02:51.337030",
     "exception": false,
     "start_time": "2023-10-31T18:02:51.326622",
     "status": "completed"
    },
    "tags": []
   },
   "outputs": [],
   "source": [
    "# A recommended way to store the key is in an environment variable. For this demo, I am storing in a file.\n",
    "key_location = '/Users/xavier/github/xmorera/ps-generative-ai-developing-applications-python-openai/key/genaikey.txt'\n",
    "\n",
    "with open(key_location, 'r') as file:\n",
    "    key = file.readline().strip()"
   ]
  },
  {
   "cell_type": "code",
   "execution_count": 3,
   "id": "08b024ee-40b3-4be6-9438-0c66a97f1478",
   "metadata": {
    "papermill": {
     "duration": 0.36904,
     "end_time": "2023-10-31T18:02:51.707638",
     "exception": true,
     "start_time": "2023-10-31T18:02:51.338598",
     "status": "failed"
    },
    "tags": []
   },
   "outputs": [
    {
     "name": "stdout",
     "output_type": "stream",
     "text": [
      "{\n",
      "  \"created\": 1698779750,\n",
      "  \"data\": [\n",
      "    {\n",
      "      \"url\": \"https://oaidalleapiprodscus.blob.core.windows.net/private/org-5RT96wzAeptvdxUArfPyjQCx/user-msm2q1UYRaZHPsPBneOsF8gB/img-GgTEY0VNsnUKluAnzWER3CV1.png?st=2023-10-31T18%3A15%3A50Z&se=2023-10-31T20%3A15%3A50Z&sp=r&sv=2021-08-06&sr=b&rscd=inline&rsct=image/png&skoid=6aaadede-4fb3-4698-a8f6-684d7786b067&sktid=a48cca56-e6da-484e-a814-9c849652bcb3&skt=2023-10-31T00%3A33%3A41Z&ske=2023-11-01T00%3A33%3A41Z&sks=b&skv=2021-08-06&sig=dtBoF2DvpXRmI9pt2SUG/r%2BaYPn5Y/6FAhvceFetAS0%3D\"\n",
      "    }\n",
      "  ]\n",
      "}\n"
     ]
    }
   ],
   "source": [
    "URL = \"https://api.openai.com/v1/images/edits\"\n",
    "\n",
    "headers = {\n",
    "    'Authorization': f'Bearer {key}'\n",
    "}\n",
    "files = {\n",
    "    \"image\": open(\"./otter1.png\", \"rb\"),\n",
    "    \"mask\": open(\"./mask1.png\", \"rb\")\n",
    "}\n",
    "data = {\n",
    "    \"prompt\": \"A cute baby sea otter wearing a beret\",\n",
    "    \"n\": 1,\n",
    "    \"size\": \"1024x1024\"\n",
    "}\n",
    "\n",
    "response = requests.post(URL, headers=headers, files=files, data=data, timeout=20)\n",
    "\n",
    "if response.status_code == 200:\n",
    "    result = response.json()\n",
    "    print(json.dumps(result, indent=2))\n",
    "else:\n",
    "    print('Request failed with status code:', response.status_code)\n"
   ]
  }
 ],
 "metadata": {
  "kernelspec": {
   "display_name": "Python 3 (ipykernel)",
   "language": "python",
   "name": "python3"
  },
  "language_info": {
   "codemirror_mode": {
    "name": "ipython",
    "version": 3
   },
   "file_extension": ".py",
   "mimetype": "text/x-python",
   "name": "python",
   "nbconvert_exporter": "python",
   "pygments_lexer": "ipython3",
   "version": "3.9.1"
  },
  "papermill": {
   "default_parameters": {},
   "duration": 1.607638,
   "end_time": "2023-10-31T18:02:51.932975",
   "environment_variables": {},
   "exception": true,
   "input_path": "m4/06-image-edit/image_edit_api.ipynb",
   "output_path": "m4/06-image-edit/image_edit_api.ipynb",
   "parameters": {},
   "start_time": "2023-10-31T18:02:50.325337",
   "version": "2.4.0"
  }
 },
 "nbformat": 4,
 "nbformat_minor": 5
}
