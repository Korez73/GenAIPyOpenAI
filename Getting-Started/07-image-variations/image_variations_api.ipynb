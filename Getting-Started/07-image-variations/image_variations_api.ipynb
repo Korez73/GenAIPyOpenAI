{
 "cells": [
  {
   "cell_type": "markdown",
   "id": "cc92b3a2-9949-4c7f-b100-b5202d10975b",
   "metadata": {
    "papermill": {
     "duration": 0.003001,
     "end_time": "2023-10-31T18:03:14.295122",
     "exception": false,
     "start_time": "2023-10-31T18:03:14.292121",
     "status": "completed"
    },
    "tags": []
   },
   "source": [
    "# Image Variations Using the API"
   ]
  },
  {
   "cell_type": "code",
   "execution_count": 1,
   "id": "bf8af8e6-0bac-4383-a268-9a8b947627bd",
   "metadata": {
    "papermill": {
     "duration": 0.06806,
     "end_time": "2023-10-31T18:03:14.366295",
     "exception": false,
     "start_time": "2023-10-31T18:03:14.298235",
     "status": "completed"
    },
    "tags": []
   },
   "outputs": [],
   "source": [
    "import os\n",
    "import requests\n",
    "import json"
   ]
  },
  {
   "cell_type": "code",
   "execution_count": 2,
   "id": "31975674-8780-4ebf-b405-f49620f983f0",
   "metadata": {
    "papermill": {
     "duration": 0.009742,
     "end_time": "2023-10-31T18:03:14.377603",
     "exception": false,
     "start_time": "2023-10-31T18:03:14.367861",
     "status": "completed"
    },
    "tags": []
   },
   "outputs": [],
   "source": [
    "# A recommended way to store the key is in an environment variable. For this demo, I am storing in a file.\n",
    "key_location = '/Users/xavier/github/xmorera/ps-generative-ai-developing-applications-python-openai/key/genaikey.txt'\n",
    "\n",
    "with open(key_location, 'r') as file:\n",
    "    key = file.readline().strip()"
   ]
  },
  {
   "cell_type": "code",
   "execution_count": 3,
   "id": "9aae914b-6ce0-412b-9e99-9514e91e5df8",
   "metadata": {
    "papermill": {
     "duration": 0.35179,
     "end_time": "2023-10-31T18:03:14.730842",
     "exception": true,
     "start_time": "2023-10-31T18:03:14.379052",
     "status": "failed"
    },
    "tags": []
   },
   "outputs": [
    {
     "name": "stdout",
     "output_type": "stream",
     "text": [
      "{\n",
      "  \"created\": 1698779766,\n",
      "  \"data\": [\n",
      "    {\n",
      "      \"url\": \"https://oaidalleapiprodscus.blob.core.windows.net/private/org-5RT96wzAeptvdxUArfPyjQCx/user-msm2q1UYRaZHPsPBneOsF8gB/img-c0F2xzG8jStXd6hW9WpwAhZY.png?st=2023-10-31T18%3A16%3A05Z&se=2023-10-31T20%3A16%3A05Z&sp=r&sv=2021-08-06&sr=b&rscd=inline&rsct=image/png&skoid=6aaadede-4fb3-4698-a8f6-684d7786b067&sktid=a48cca56-e6da-484e-a814-9c849652bcb3&skt=2023-10-31T00%3A24%3A30Z&ske=2023-11-01T00%3A24%3A30Z&sks=b&skv=2021-08-06&sig=Tn0wJh/WK4E54UsGlYV/Weal8TZxnhSE70D0yj%2B4t3s%3D\"\n",
      "    },\n",
      "    {\n",
      "      \"url\": \"https://oaidalleapiprodscus.blob.core.windows.net/private/org-5RT96wzAeptvdxUArfPyjQCx/user-msm2q1UYRaZHPsPBneOsF8gB/img-a8Dl2WYyg25anPFiyEEuHNVs.png?st=2023-10-31T18%3A16%3A06Z&se=2023-10-31T20%3A16%3A06Z&sp=r&sv=2021-08-06&sr=b&rscd=inline&rsct=image/png&skoid=6aaadede-4fb3-4698-a8f6-684d7786b067&sktid=a48cca56-e6da-484e-a814-9c849652bcb3&skt=2023-10-31T00%3A24%3A30Z&ske=2023-11-01T00%3A24%3A30Z&sks=b&skv=2021-08-06&sig=ACLlrcxxe7vJ37KMJ%2B/NXqzM2gRmEQXDjy4KL/zIdgI%3D\"\n",
      "    }\n",
      "  ]\n",
      "}\n"
     ]
    }
   ],
   "source": [
    "URL = \"https://api.openai.com/v1/images/variations\"\n",
    "\n",
    "headers = {\n",
    "    'Authorization': f'Bearer {key}'\n",
    "}\n",
    "files = {\n",
    "    \"image\": open(\"./otter1.png\", \"rb\")\n",
    "}\n",
    "data = {\n",
    "    \"n\": 2,\n",
    "    \"size\": \"1024x1024\"\n",
    "}\n",
    "\n",
    "response = requests.post(URL, headers=headers, files=files, data=data, timeout=20)\n",
    "\n",
    "if response.status_code == 200:\n",
    "    result = response.json()\n",
    "    print(json.dumps(result, indent=2))\n",
    "else:\n",
    "    print('Request failed with status code:', response.status_code)\n"
   ]
  }
 ],
 "metadata": {
  "kernelspec": {
   "display_name": "Python 3 (ipykernel)",
   "language": "python",
   "name": "python3"
  },
  "language_info": {
   "codemirror_mode": {
    "name": "ipython",
    "version": 3
   },
   "file_extension": ".py",
   "mimetype": "text/x-python",
   "name": "python",
   "nbconvert_exporter": "python",
   "pygments_lexer": "ipython3",
   "version": "3.9.1"
  },
  "papermill": {
   "default_parameters": {},
   "duration": 1.540982,
   "end_time": "2023-10-31T18:03:14.955975",
   "environment_variables": {},
   "exception": true,
   "input_path": "m4/07-image-variations/image_variations_api.ipynb",
   "output_path": "m4/07-image-variations/image_variations_api.ipynb",
   "parameters": {},
   "start_time": "2023-10-31T18:03:13.414993",
   "version": "2.4.0"
  }
 },
 "nbformat": 4,
 "nbformat_minor": 5
}
