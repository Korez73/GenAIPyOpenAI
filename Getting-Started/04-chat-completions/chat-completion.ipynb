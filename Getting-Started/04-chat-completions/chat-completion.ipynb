{
 "cells": [
  {
   "cell_type": "markdown",
   "id": "68c0ca39-076f-4033-9044-e088bf729bda",
   "metadata": {
    "papermill": {
     "duration": 0.003504,
     "end_time": "2023-10-31T18:03:04.925871",
     "exception": false,
     "start_time": "2023-10-31T18:03:04.922367",
     "status": "completed"
    },
    "tags": []
   },
   "source": [
    "# Chat Completions API\n",
    "\n",
    "https://platform.openai.com/docs/guides/gpt/chat-completions-api"
   ]
  },
  {
   "cell_type": "code",
   "execution_count": 1,
   "id": "4859cb18-1891-4cba-80b4-76b3b1194ae2",
   "metadata": {
    "execution": {
     "iopub.execute_input": "2023-10-31T18:03:04.932744Z",
     "iopub.status.busy": "2023-10-31T18:03:04.932379Z",
     "iopub.status.idle": "2023-10-31T18:03:04.994663Z",
     "shell.execute_reply": "2023-10-31T18:03:04.993390Z"
    },
    "papermill": {
     "duration": 0.067794,
     "end_time": "2023-10-31T18:03:04.996983",
     "exception": false,
     "start_time": "2023-10-31T18:03:04.929189",
     "status": "completed"
    },
    "tags": []
   },
   "outputs": [],
   "source": [
    "import os\n",
    "import requests\n",
    "import json"
   ]
  },
  {
   "cell_type": "code",
   "execution_count": 2,
   "id": "214d2666-0605-4e3b-98b7-9a2d79b7b576",
   "metadata": {
    "execution": {
     "iopub.execute_input": "2023-10-31T18:03:05.001790Z",
     "iopub.status.busy": "2023-10-31T18:03:05.001480Z",
     "iopub.status.idle": "2023-10-31T18:03:05.006910Z",
     "shell.execute_reply": "2023-10-31T18:03:05.006201Z"
    },
    "papermill": {
     "duration": 0.010248,
     "end_time": "2023-10-31T18:03:05.008991",
     "exception": false,
     "start_time": "2023-10-31T18:03:04.998743",
     "status": "completed"
    },
    "tags": []
   },
   "outputs": [],
   "source": [
    "# A recommended way to store the key is in an environment variable. For this demo, I am storing in a file.\n",
    "key_location = 'D:/Repos/GenAIPyOpenAI/localkey.txt'\n",
    "\n",
    "with open(key_location, 'r') as file:\n",
    "    key = file.readline().strip()"
   ]
  },
  {
   "cell_type": "code",
   "execution_count": 3,
   "id": "4c645d17-e51b-4e54-9712-695d2731aeb5",
   "metadata": {
    "execution": {
     "iopub.execute_input": "2023-10-31T18:03:05.013635Z",
     "iopub.status.busy": "2023-10-31T18:03:05.013350Z",
     "iopub.status.idle": "2023-10-31T18:03:05.018835Z",
     "shell.execute_reply": "2023-10-31T18:03:05.018031Z"
    },
    "papermill": {
     "duration": 0.010436,
     "end_time": "2023-10-31T18:03:05.021192",
     "exception": false,
     "start_time": "2023-10-31T18:03:05.010756",
     "status": "completed"
    },
    "tags": []
   },
   "outputs": [],
   "source": [
    "def make_openai_request(url, data=None):\n",
    "    \"\"\"Takes a prompt as an argument and sends a POST request to the OpenAI API\"\"\"\n",
    "\n",
    "    headers = {\n",
    "        'Authorization': f'Bearer {key}'\n",
    "    }\n",
    "    if data:\n",
    "        headers['Content-Type'] = 'application/json'\n",
    "    response = requests.post(url, headers=headers, json=data, timeout=20)\n",
    "\n",
    "    if response.status_code == 200:\n",
    "        result = response.json()\n",
    "        return result\n",
    "    print('Request failed with status code:', response.status_code)\n",
    "    return None"
   ]
  },
  {
   "cell_type": "code",
   "execution_count": 4,
   "id": "55666985-bf05-40e7-9d2d-c8388312388b",
   "metadata": {
    "execution": {
     "iopub.execute_input": "2023-10-31T18:03:05.025906Z",
     "iopub.status.busy": "2023-10-31T18:03:05.025601Z",
     "iopub.status.idle": "2023-10-31T18:03:09.107382Z",
     "shell.execute_reply": "2023-10-31T18:03:09.106669Z"
    },
    "papermill": {
     "duration": 4.086733,
     "end_time": "2023-10-31T18:03:09.109673",
     "exception": false,
     "start_time": "2023-10-31T18:03:05.022940",
     "status": "completed"
    },
    "tags": []
   },
   "outputs": [
    {
     "name": "stdout",
     "output_type": "stream",
     "text": [
      "{\n",
      "  \"id\": \"chatcmpl-8FnMvGu67CC4VcCDBhWtqo9FQqMsQ\",\n",
      "  \"object\": \"chat.completion\",\n",
      "  \"created\": 1698775385,\n",
      "  \"model\": \"gpt-3.5-turbo-0613\",\n",
      "  \"choices\": [\n",
      "    {\n",
      "      \"index\": 0,\n",
      "      \"message\": {\n",
      "        \"role\": \"assistant\",\n",
      "        \"content\": \"The problem is that I recently purchased a product from your company and it turned out to be defective. Not only did the product not work as advertised, but it also caused damage to my property. I am extremely frustrated and upset about this.\"\n",
      "      },\n",
      "      \"finish_reason\": \"stop\"\n",
      "    }\n",
      "  ],\n",
      "  \"usage\": {\n",
      "    \"prompt_tokens\": 53,\n",
      "    \"completion_tokens\": 48,\n",
      "    \"total_tokens\": 101\n",
      "  }\n",
      "}\n"
     ]
    }
   ],
   "source": [
    "URL = \"https://api.openai.com/v1/chat/completions\"\n",
    "data = {\n",
    "    \"model\": \"gpt-3.5-turbo\",\n",
    "    \"messages\": [\n",
    "      {\n",
    "        \"role\": \"system\",\n",
    "        \"content\": \"You are an angry customer.\"\n",
    "      },\n",
    "      {\n",
    "        \"role\": \"user\",\n",
    "        \"content\": \"Hello!\"\n",
    "      },\n",
    "      {\n",
    "        \"role\": \"assistant\",\n",
    "        \"content\": \"Hello there. I need to express my extreme dissatisfaction with the service I received from your company.\"\n",
    "      },\n",
    "      {\n",
    "        \"role\": \"user\",\n",
    "        \"content\": \"What seems to be the problem?\"\n",
    "      } \n",
    "    ],\n",
    "    \"temperature\": 0.7\n",
    "}\n",
    "request_result = make_openai_request(URL, data)\n",
    "\n",
    "if request_result:\n",
    "    print(json.dumps(request_result, indent=2))"
   ]
  }
 ],
 "metadata": {
  "kernelspec": {
   "display_name": "Python 3 (ipykernel)",
   "language": "python",
   "name": "python3"
  },
  "language_info": {
   "codemirror_mode": {
    "name": "ipython",
    "version": 3
   },
   "file_extension": ".py",
   "mimetype": "text/x-python",
   "name": "python",
   "nbconvert_exporter": "python",
   "pygments_lexer": "ipython3",
   "version": "3.9.1"
  },
  "papermill": {
   "default_parameters": {},
   "duration": 5.531756,
   "end_time": "2023-10-31T18:03:09.334560",
   "environment_variables": {},
   "exception": null,
   "input_path": "m4/04-chat-completions/chat-completion.ipynb",
   "output_path": "m4/04-chat-completions/chat-completion.ipynb",
   "parameters": {},
   "start_time": "2023-10-31T18:03:03.802804",
   "version": "2.4.0"
  }
 },
 "nbformat": 4,
 "nbformat_minor": 5
}
