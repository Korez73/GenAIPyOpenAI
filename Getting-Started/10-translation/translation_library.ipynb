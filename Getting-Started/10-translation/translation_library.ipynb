{
 "cells": [
  {
   "cell_type": "markdown",
   "id": "dc44fc75-484a-4dd2-963c-73a9fecc7a65",
   "metadata": {
    "papermill": {
     "duration": 0.003141,
     "end_time": "2023-10-31T18:02:43.885892",
     "exception": false,
     "start_time": "2023-10-31T18:02:43.882751",
     "status": "completed"
    },
    "tags": []
   },
   "source": [
    "# Translation Using the Library"
   ]
  },
  {
   "cell_type": "code",
   "execution_count": 1,
   "id": "997c2c60-88df-45fb-a852-27ed6c84bfab",
   "metadata": {
    "papermill": {
     "duration": 0.143456,
     "end_time": "2023-10-31T18:02:44.032154",
     "exception": false,
     "start_time": "2023-10-31T18:02:43.888698",
     "status": "completed"
    },
    "tags": []
   },
   "outputs": [],
   "source": [
    "import json\n",
    "import os\n",
    "import openai"
   ]
  },
  {
   "cell_type": "code",
   "execution_count": 2,
   "id": "2f3600c1-7402-4a68-b2b7-dedf468868d5",
   "metadata": {
    "papermill": {
     "duration": 0.00913,
     "end_time": "2023-10-31T18:02:44.043466",
     "exception": false,
     "start_time": "2023-10-31T18:02:44.034336",
     "status": "completed"
    },
    "tags": []
   },
   "outputs": [],
   "source": [
    "# A recommended way to store the key is in an environment variable. For this demo, I am storing in a file.\n",
    "key_location = '/Users/xavier/github/xmorera/ps-generative-ai-developing-applications-python-openai/key/genaikey.txt'\n",
    "\n",
    "with open(key_location, 'r') as file:\n",
    "    key = file.readline().strip()"
   ]
  },
  {
   "cell_type": "code",
   "execution_count": 3,
   "id": "09c690c4-75c3-44f4-8c68-84be20290978",
   "metadata": {
    "papermill": {
     "duration": 0.007697,
     "end_time": "2023-10-31T18:02:44.052624",
     "exception": false,
     "start_time": "2023-10-31T18:02:44.044927",
     "status": "completed"
    },
    "tags": []
   },
   "outputs": [],
   "source": [
    "openai.api_key = key"
   ]
  },
  {
   "cell_type": "code",
   "execution_count": 4,
   "id": "e64f7332-f4e5-45cb-8f75-6ef60ab0633c",
   "metadata": {
    "papermill": {
     "duration": 0.382375,
     "end_time": "2023-10-31T18:02:44.436507",
     "exception": true,
     "start_time": "2023-10-31T18:02:44.054132",
     "status": "failed"
    },
    "tags": []
   },
   "outputs": [
    {
     "name": "stdout",
     "output_type": "stream",
     "text": [
      "{\n",
      "  \"text\": \"We rarely think about what we have, but always think about what we are missing.\"\n",
      "}\n"
     ]
    }
   ],
   "source": [
    "audio_file= open(\"./german_quote.mp3\", \"rb\")\n",
    "transcript = openai.Audio.translate(\"whisper-1\", audio_file)\n",
    "print(transcript)"
   ]
  }
 ],
 "metadata": {
  "kernelspec": {
   "display_name": "Python 3 (ipykernel)",
   "language": "python",
   "name": "python3"
  },
  "language_info": {
   "codemirror_mode": {
    "name": "ipython",
    "version": 3
   },
   "file_extension": ".py",
   "mimetype": "text/x-python",
   "name": "python",
   "nbconvert_exporter": "python",
   "pygments_lexer": "ipython3",
   "version": "3.9.1"
  },
  "papermill": {
   "default_parameters": {},
   "duration": 1.739883,
   "end_time": "2023-10-31T18:02:44.664654",
   "environment_variables": {},
   "exception": true,
   "input_path": "m4/10-translation/translation_library.ipynb",
   "output_path": "m4/10-translation/translation_library.ipynb",
   "parameters": {},
   "start_time": "2023-10-31T18:02:42.924771",
   "version": "2.4.0"
  }
 },
 "nbformat": 4,
 "nbformat_minor": 5
}
