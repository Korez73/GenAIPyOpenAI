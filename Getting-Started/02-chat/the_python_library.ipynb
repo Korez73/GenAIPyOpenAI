{
 "cells": [
  {
   "cell_type": "code",
   "execution_count": 1,
   "id": "50dbfe1d-bb9b-4580-8cb4-f29d38df32d0",
   "metadata": {
    "execution": {
     "iopub.execute_input": "2023-10-31T18:02:53.074369Z",
     "iopub.status.busy": "2023-10-31T18:02:53.073991Z",
     "iopub.status.idle": "2023-10-31T18:02:53.215292Z",
     "shell.execute_reply": "2023-10-31T18:02:53.214518Z"
    },
    "papermill": {
     "duration": 0.147441,
     "end_time": "2023-10-31T18:02:53.217702",
     "exception": false,
     "start_time": "2023-10-31T18:02:53.070261",
     "status": "completed"
    },
    "tags": []
   },
   "outputs": [],
   "source": [
    "import openai"
   ]
  },
  {
   "cell_type": "code",
   "execution_count": 2,
   "id": "2d8f36bd-9265-4ae9-b4ad-017a5c41fb78",
   "metadata": {
    "execution": {
     "iopub.execute_input": "2023-10-31T18:02:53.222598Z",
     "iopub.status.busy": "2023-10-31T18:02:53.222238Z",
     "iopub.status.idle": "2023-10-31T18:02:53.229478Z",
     "shell.execute_reply": "2023-10-31T18:02:53.228715Z"
    },
    "papermill": {
     "duration": 0.012195,
     "end_time": "2023-10-31T18:02:53.231913",
     "exception": false,
     "start_time": "2023-10-31T18:02:53.219718",
     "status": "completed"
    },
    "tags": []
   },
   "outputs": [
    {
     "data": {
      "text/plain": [
       "['APIError',\n",
       " 'Audio',\n",
       " 'Callable',\n",
       " 'ChatCompletion',\n",
       " 'Completion',\n",
       " 'ContextVar',\n",
       " 'Customer',\n",
       " 'Deployment',\n",
       " 'Edit',\n",
       " 'Embedding',\n",
       " 'Engine',\n",
       " 'ErrorObject',\n",
       " 'File',\n",
       " 'FineTune',\n",
       " 'FineTuningJob',\n",
       " 'Image',\n",
       " 'InvalidRequestError',\n",
       " 'Model',\n",
       " 'Moderation',\n",
       " 'OpenAIError',\n",
       " 'Optional',\n",
       " 'TYPE_CHECKING',\n",
       " 'Union',\n",
       " 'VERSION',\n",
       " '__all__',\n",
       " '__annotations__',\n",
       " '__builtins__',\n",
       " '__cached__',\n",
       " '__doc__',\n",
       " '__file__',\n",
       " '__loader__',\n",
       " '__name__',\n",
       " '__package__',\n",
       " '__path__',\n",
       " '__spec__',\n",
       " '__version__',\n",
       " 'aiohttp',\n",
       " 'aiosession',\n",
       " 'api_base',\n",
       " 'api_key',\n",
       " 'api_key_path',\n",
       " 'api_requestor',\n",
       " 'api_resources',\n",
       " 'api_type',\n",
       " 'api_version',\n",
       " 'app_info',\n",
       " 'ca_bundle_path',\n",
       " 'datalib',\n",
       " 'debug',\n",
       " 'enable_telemetry',\n",
       " 'error',\n",
       " 'log',\n",
       " 'openai_object',\n",
       " 'openai_response',\n",
       " 'organization',\n",
       " 'os',\n",
       " 'proxy',\n",
       " 'requestssession',\n",
       " 'sys',\n",
       " 'util',\n",
       " 'verify_ssl_certs',\n",
       " 'version']"
      ]
     },
     "execution_count": 2,
     "metadata": {},
     "output_type": "execute_result"
    }
   ],
   "source": [
    "dir(openai)"
   ]
  },
  {
   "cell_type": "code",
   "execution_count": 3,
   "id": "ef67a9eb-09ec-49b8-bbe7-84e1b48f3687",
   "metadata": {
    "execution": {
     "iopub.execute_input": "2023-10-31T18:02:53.236457Z",
     "iopub.status.busy": "2023-10-31T18:02:53.236159Z",
     "iopub.status.idle": "2023-10-31T18:02:53.241692Z",
     "shell.execute_reply": "2023-10-31T18:02:53.241087Z"
    },
    "papermill": {
     "duration": 0.01002,
     "end_time": "2023-10-31T18:02:53.243672",
     "exception": false,
     "start_time": "2023-10-31T18:02:53.233652",
     "status": "completed"
    },
    "tags": []
   },
   "outputs": [
    {
     "data": {
      "text/plain": [
       "['OBJECT_NAME',\n",
       " '_EngineAPIResource__prepare_create_request',\n",
       " '__class__',\n",
       " '__class_getitem__',\n",
       " '__contains__',\n",
       " '__copy__',\n",
       " '__deepcopy__',\n",
       " '__delattr__',\n",
       " '__delitem__',\n",
       " '__dict__',\n",
       " '__dir__',\n",
       " '__doc__',\n",
       " '__eq__',\n",
       " '__format__',\n",
       " '__ge__',\n",
       " '__getattr__',\n",
       " '__getattribute__',\n",
       " '__getitem__',\n",
       " '__gt__',\n",
       " '__hash__',\n",
       " '__init__',\n",
       " '__init_subclass__',\n",
       " '__ior__',\n",
       " '__iter__',\n",
       " '__le__',\n",
       " '__len__',\n",
       " '__lt__',\n",
       " '__module__',\n",
       " '__ne__',\n",
       " '__new__',\n",
       " '__or__',\n",
       " '__reduce__',\n",
       " '__reduce_ex__',\n",
       " '__repr__',\n",
       " '__reversed__',\n",
       " '__ror__',\n",
       " '__setattr__',\n",
       " '__setitem__',\n",
       " '__setstate__',\n",
       " '__sizeof__',\n",
       " '__str__',\n",
       " '__subclasshook__',\n",
       " '__weakref__',\n",
       " '_astatic_request',\n",
       " '_get_api_type_and_version',\n",
       " '_static_request',\n",
       " 'acreate',\n",
       " 'api_base',\n",
       " 'api_base_override',\n",
       " 'api_prefix',\n",
       " 'arefresh',\n",
       " 'arequest',\n",
       " 'aretrieve',\n",
       " 'await_',\n",
       " 'azure_api_prefix',\n",
       " 'azure_deployments_prefix',\n",
       " 'class_url',\n",
       " 'clear',\n",
       " 'construct_from',\n",
       " 'copy',\n",
       " 'create',\n",
       " 'engine_required',\n",
       " 'fromkeys',\n",
       " 'get',\n",
       " 'instance_url',\n",
       " 'items',\n",
       " 'keys',\n",
       " 'openai_id',\n",
       " 'plain_old_data',\n",
       " 'pop',\n",
       " 'popitem',\n",
       " 'refresh',\n",
       " 'refresh_from',\n",
       " 'request',\n",
       " 'response_ms',\n",
       " 'retrieve',\n",
       " 'setdefault',\n",
       " 'to_dict',\n",
       " 'to_dict_recursive',\n",
       " 'typed_api_type',\n",
       " 'update',\n",
       " 'values',\n",
       " 'wait']"
      ]
     },
     "execution_count": 3,
     "metadata": {},
     "output_type": "execute_result"
    }
   ],
   "source": [
    "dir(openai.ChatCompletion)"
   ]
  }
 ],
 "metadata": {
  "kernelspec": {
   "display_name": "Python 3 (ipykernel)",
   "language": "python",
   "name": "python3"
  },
  "language_info": {
   "codemirror_mode": {
    "name": "ipython",
    "version": 3
   },
   "file_extension": ".py",
   "mimetype": "text/x-python",
   "name": "python",
   "nbconvert_exporter": "python",
   "pygments_lexer": "ipython3",
   "version": "3.9.13"
  },
  "papermill": {
   "default_parameters": {},
   "duration": 1.523836,
   "end_time": "2023-10-31T18:02:53.467995",
   "environment_variables": {},
   "exception": null,
   "input_path": "m4/02-chat/the_python_library.ipynb",
   "output_path": "m4/02-chat/the_python_library.ipynb",
   "parameters": {},
   "start_time": "2023-10-31T18:02:51.944159",
   "version": "2.4.0"
  }
 },
 "nbformat": 4,
 "nbformat_minor": 5
}
