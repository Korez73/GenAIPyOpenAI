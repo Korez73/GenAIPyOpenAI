{
 "cells": [
  {
   "cell_type": "markdown",
   "id": "a9fdd643-6ccb-4224-a043-8d631ca9fadb",
   "metadata": {
    "papermill": {
     "duration": 0.002255,
     "end_time": "2023-10-31T18:02:54.475594",
     "exception": false,
     "start_time": "2023-10-31T18:02:54.473339",
     "status": "completed"
    },
    "tags": []
   },
   "source": [
    "# Anatomy of an API Call\n",
    "\n",
    "https://platform.openai.com/docs/api-reference/models/object"
   ]
  },
  {
   "cell_type": "code",
   "execution_count": 9,
   "id": "77d513d8-d990-4e85-ae90-3b0a6ff685a2",
   "metadata": {
    "execution": {
     "iopub.execute_input": "2023-10-31T18:02:54.481950Z",
     "iopub.status.busy": "2023-10-31T18:02:54.481446Z",
     "iopub.status.idle": "2023-10-31T18:02:54.551401Z",
     "shell.execute_reply": "2023-10-31T18:02:54.550630Z"
    },
    "papermill": {
     "duration": 0.075666,
     "end_time": "2023-10-31T18:02:54.553717",
     "exception": false,
     "start_time": "2023-10-31T18:02:54.478051",
     "status": "completed"
    },
    "tags": []
   },
   "outputs": [],
   "source": [
    "import os\n",
    "import requests\n",
    "import json"
   ]
  },
  {
   "cell_type": "code",
   "execution_count": 10,
   "id": "638f7133-3515-454a-9178-865be7a79a58",
   "metadata": {
    "execution": {
     "iopub.execute_input": "2023-10-31T18:02:54.558394Z",
     "iopub.status.busy": "2023-10-31T18:02:54.558059Z",
     "iopub.status.idle": "2023-10-31T18:02:54.563422Z",
     "shell.execute_reply": "2023-10-31T18:02:54.562582Z"
    },
    "papermill": {
     "duration": 0.010112,
     "end_time": "2023-10-31T18:02:54.565542",
     "exception": false,
     "start_time": "2023-10-31T18:02:54.555430",
     "status": "completed"
    },
    "tags": []
   },
   "outputs": [],
   "source": [
    "# A recommended way to store the key is in an environment variable. For this demo, I am storing in a file.\n",
    "key_location = 'D:/Repos/GenAIPyOpenAI/localkey.txt'\n",
    "\n",
    "with open(key_location, 'r') as file:\n",
    "    key = file.readline().strip()"
   ]
  },
  {
   "cell_type": "code",
   "execution_count": 11,
   "id": "96dcf50b-151e-4196-a352-10b53d480adf",
   "metadata": {
    "execution": {
     "iopub.execute_input": "2023-10-31T18:02:54.570095Z",
     "iopub.status.busy": "2023-10-31T18:02:54.569800Z",
     "iopub.status.idle": "2023-10-31T18:02:54.575385Z",
     "shell.execute_reply": "2023-10-31T18:02:54.574558Z"
    },
    "papermill": {
     "duration": 0.010262,
     "end_time": "2023-10-31T18:02:54.577503",
     "exception": false,
     "start_time": "2023-10-31T18:02:54.567241",
     "status": "completed"
    },
    "tags": []
   },
   "outputs": [],
   "source": [
    "def make_openai_request(prompt):\n",
    "    \"\"\"Takes a prompt as an argument and sends a POST request to the OpenAI API\"\"\"\n",
    "    url = 'https://api.openai.com/v1/chat/completions'\n",
    "    headers = {\n",
    "        'Content-Type': 'application/json',\n",
    "        'Authorization': f'Bearer {key}'\n",
    "    }\n",
    "    data = {\n",
    "        \"model\": \"gpt-3.5-turbo\",\n",
    "        \"messages\": [{\"role\": \"user\", \"content\": prompt}],\n",
    "        \"temperature\": 0.7\n",
    "    }\n",
    "\n",
    "    response = requests.post(url, headers=headers, json=data, timeout=20)\n",
    "\n",
    "    if response.status_code == 200:\n",
    "        result = response.json()\n",
    "        return result\n",
    "    print('Request failed with status code:', response.status_code)\n",
    "    return None"
   ]
  },
  {
   "cell_type": "code",
   "execution_count": 12,
   "id": "70eb0aee-f332-474b-862c-c2b75f7d1769",
   "metadata": {
    "execution": {
     "iopub.execute_input": "2023-10-31T18:02:54.583268Z",
     "iopub.status.busy": "2023-10-31T18:02:54.582952Z",
     "iopub.status.idle": "2023-10-31T18:03:01.775799Z",
     "shell.execute_reply": "2023-10-31T18:03:01.774764Z"
    },
    "papermill": {
     "duration": 7.198504,
     "end_time": "2023-10-31T18:03:01.778290",
     "exception": false,
     "start_time": "2023-10-31T18:02:54.579786",
     "status": "completed"
    },
    "tags": []
   },
   "outputs": [
    {
     "name": "stdout",
     "output_type": "stream",
     "text": [
      "{\n",
      "  \"id\": \"chatcmpl-8OmqfMWNaAOb8usp48WJCok39JO3Z\",\n",
      "  \"object\": \"chat.completion\",\n",
      "  \"created\": 1700918337,\n",
      "  \"model\": \"gpt-3.5-turbo-0613\",\n",
      "  \"choices\": [\n",
      "    {\n",
      "      \"index\": 0,\n",
      "      \"message\": {\n",
      "        \"role\": \"assistant\",\n",
      "        \"content\": \"Why did the tomato turn red?\\n\\nBecause it saw the salad dressing!\"\n",
      "      },\n",
      "      \"finish_reason\": \"stop\"\n",
      "    }\n",
      "  ],\n",
      "  \"usage\": {\n",
      "    \"prompt_tokens\": 14,\n",
      "    \"completion_tokens\": 14,\n",
      "    \"total_tokens\": 28\n",
      "  }\n",
      "}\n"
     ]
    }
   ],
   "source": [
    "request_result = make_openai_request(\"Tell me a joke about eating vegetables\")\n",
    "print(json.dumps(request_result, indent=2))"
   ]
  }
 ],
 "metadata": {
  "kernelspec": {
   "display_name": "Python 3 (ipykernel)",
   "language": "python",
   "name": "python3"
  },
  "language_info": {
   "codemirror_mode": {
    "name": "ipython",
    "version": 3
   },
   "file_extension": ".py",
   "mimetype": "text/x-python",
   "name": "python",
   "nbconvert_exporter": "python",
   "pygments_lexer": "ipython3",
   "version": "3.9.13"
  },
  "papermill": {
   "default_parameters": {},
   "duration": 8.52574,
   "end_time": "2023-10-31T18:03:02.003513",
   "environment_variables": {},
   "exception": null,
   "input_path": "m4/02-chat/anatomy-of-an-api-call.ipynb",
   "output_path": "m4/02-chat/anatomy-of-an-api-call.ipynb",
   "parameters": {},
   "start_time": "2023-10-31T18:02:53.477773",
   "version": "2.4.0"
  }
 },
 "nbformat": 4,
 "nbformat_minor": 5
}
