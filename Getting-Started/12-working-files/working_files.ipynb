{
 "cells": [
  {
   "cell_type": "markdown",
   "id": "2b931b38-cf8f-4b6d-aa0f-9fba2b0bda48",
   "metadata": {
    "papermill": {
     "duration": 0.004128,
     "end_time": "2023-10-31T18:02:47.299090",
     "exception": false,
     "start_time": "2023-10-31T18:02:47.294962",
     "status": "completed"
    },
    "tags": []
   },
   "source": [
    "# Working with Files\n",
    "Performing file operations with the OpenAI API"
   ]
  },
  {
   "cell_type": "code",
   "execution_count": 1,
   "id": "b6e01116-4885-49bc-8cff-904267b09c2e",
   "metadata": {
    "papermill": {
     "duration": 0.066624,
     "end_time": "2023-10-31T18:02:47.369617",
     "exception": false,
     "start_time": "2023-10-31T18:02:47.302993",
     "status": "completed"
    },
    "tags": []
   },
   "outputs": [],
   "source": [
    "import json\n",
    "import os\n",
    "import requests"
   ]
  },
  {
   "cell_type": "code",
   "execution_count": 2,
   "id": "ab36ebbb-7b25-4c8a-975f-ccebd4001d6e",
   "metadata": {
    "papermill": {
     "duration": 0.010068,
     "end_time": "2023-10-31T18:02:47.381948",
     "exception": false,
     "start_time": "2023-10-31T18:02:47.371880",
     "status": "completed"
    },
    "tags": []
   },
   "outputs": [],
   "source": [
    "key_location = '/Users/xavier/github/xmorera/ps-generative-ai-developing-applications-python-openai/key/genaikey.txt'\n",
    "\n",
    "with open(key_location, 'r') as file:\n",
    "    key = file.readline().strip()"
   ]
  },
  {
   "cell_type": "code",
   "execution_count": 3,
   "id": "e53989ac-2fca-4511-a6a9-845398d0d949",
   "metadata": {
    "papermill": {
     "duration": 0.010021,
     "end_time": "2023-10-31T18:02:47.394324",
     "exception": false,
     "start_time": "2023-10-31T18:02:47.384303",
     "status": "completed"
    },
    "tags": []
   },
   "outputs": [],
   "source": [
    "def make_get_request(url):\n",
    "    \"\"\"Takes a prompt as an argument and sends a POST request to the OpenAI API\"\"\"\n",
    "    headers = {\n",
    "        'Authorization': f'Bearer {key}'\n",
    "    }\n",
    "    response = requests.get(url, headers=headers, timeout=20)\n",
    "\n",
    "    if response.status_code == 200:\n",
    "        result = response.json()\n",
    "        return result\n",
    "    print('Request failed with status code:', response.status_code)\n",
    "    return None"
   ]
  },
  {
   "cell_type": "code",
   "execution_count": 4,
   "id": "01aef799-74b4-4bbd-9d97-8ea51bb9c62e",
   "metadata": {
    "papermill": {
     "duration": 0.009421,
     "end_time": "2023-10-31T18:02:47.405892",
     "exception": false,
     "start_time": "2023-10-31T18:02:47.396471",
     "status": "completed"
    },
    "tags": []
   },
   "outputs": [],
   "source": [
    "def make_delete_request(url):\n",
    "    \"\"\"Takes a prompt as an argument and sends a POST request to the OpenAI API\"\"\"\n",
    "    headers = {\n",
    "        'Authorization': f'Bearer {key}'\n",
    "    }\n",
    "    response = requests.delete(url, headers=headers, timeout=20)\n",
    "\n",
    "    if response.status_code == 200:\n",
    "        result = response.json()\n",
    "        return result\n",
    "    print('Request failed with status code:', response.status_code)\n",
    "    return None"
   ]
  },
  {
   "cell_type": "code",
   "execution_count": 5,
   "id": "d34d803c-5a05-42dc-a535-929b13e74ae6",
   "metadata": {
    "papermill": {
     "duration": 0.010552,
     "end_time": "2023-10-31T18:02:47.419360",
     "exception": false,
     "start_time": "2023-10-31T18:02:47.408808",
     "status": "completed"
    },
    "tags": []
   },
   "outputs": [],
   "source": [
    "def make_post_request(url, data, files):\n",
    "    \"\"\"Takes a prompt as an argument and sends a POST request to the OpenAI API\"\"\"\n",
    "    headers = {\n",
    "        'Authorization': f'Bearer {key}'\n",
    "    }\n",
    "    response = requests.post(url, headers=headers, data=data, files=files, timeout=20)\n",
    "\n",
    "    if response.status_code == 200:\n",
    "        result = response.json()\n",
    "        return result\n",
    "    print('Request failed with status code:', response.status_code)\n",
    "    return None"
   ]
  },
  {
   "cell_type": "code",
   "execution_count": 6,
   "id": "0e43d050-44dd-47c7-9569-e5ee8fe504c3",
   "metadata": {
    "papermill": {
     "duration": 0.580484,
     "end_time": "2023-10-31T18:02:48.002154",
     "exception": false,
     "start_time": "2023-10-31T18:02:47.421670",
     "status": "completed"
    },
    "tags": []
   },
   "outputs": [
    {
     "name": "stdout",
     "output_type": "stream",
     "text": [
      "{\n",
      "  \"object\": \"list\",\n",
      "  \"data\": [\n",
      "    {\n",
      "      \"object\": \"file\",\n",
      "      \"id\": \"file-SDhMe50Fo8KQ9SbQKIA3Nv4I\",\n",
      "      \"purpose\": \"fine-tune-results\",\n",
      "      \"filename\": \"step_metrics.csv\",\n",
      "      \"bytes\": 2081,\n",
      "      \"created_at\": 1698274318,\n",
      "      \"status\": \"processed\",\n",
      "      \"status_details\": null\n",
      "    },\n",
      "    {\n",
      "      \"object\": \"file\",\n",
      "      \"id\": \"file-eWcWWsD7CEtTgSKrMXrh1VkU\",\n",
      "      \"purpose\": \"fine-tune-results\",\n",
      "      \"filename\": \"compiled_results.csv\",\n",
      "      \"bytes\": 970,\n",
      "      \"created_at\": 1692308083,\n",
      "      \"status\": \"processed\",\n",
      "      \"status_details\": null\n",
      "    },\n",
      "    {\n",
      "      \"object\": \"file\",\n",
      "      \"id\": \"file-eWTRDV4UULfbjyNtbtV61iCG\",\n",
      "      \"purpose\": \"fine-tune\",\n",
      "      \"filename\": \"file\",\n",
      "      \"bytes\": 783,\n",
      "      \"created_at\": 1692823904,\n",
      "      \"status\": \"processed\",\n",
      "      \"status_details\": null\n",
      "    },\n",
      "    {\n",
      "      \"object\": \"file\",\n",
      "      \"id\": \"file-FdEaePKHqN4vbsgeTprLcpbm\",\n",
      "      \"purpose\": \"fine-tune-results\",\n",
      "      \"filename\": \"step_metrics.csv\",\n",
      "      \"bytes\": 1899,\n",
      "      \"created_at\": 1698332413,\n",
      "      \"status\": \"processed\",\n",
      "      \"status_details\": null\n",
      "    },\n",
      "    {\n",
      "      \"object\": \"file\",\n",
      "      \"id\": \"file-JKVo4Bog3qSfKlCZJtCSYikM\",\n",
      "      \"purpose\": \"fine-tune\",\n",
      "      \"filename\": \"data.jsonl\",\n",
      "      \"bytes\": 9125,\n",
      "      \"created_at\": 1698332043,\n",
      "      \"status\": \"processed\",\n",
      "      \"status_details\": null\n",
      "    },\n",
      "    {\n",
      "      \"object\": \"file\",\n",
      "      \"id\": \"file-inPGde60qSkiAXPJguk90W91\",\n",
      "      \"purpose\": \"fine-tune\",\n",
      "      \"filename\": \"data.jsonl\",\n",
      "      \"bytes\": 9125,\n",
      "      \"created_at\": 1698331288,\n",
      "      \"status\": \"processed\",\n",
      "      \"status_details\": null\n",
      "    },\n",
      "    {\n",
      "      \"object\": \"file\",\n",
      "      \"id\": \"file-XzGH1k7Xr7zse8Y7uAi7rf2d\",\n",
      "      \"purpose\": \"fine-tune-results\",\n",
      "      \"filename\": \"step_metrics.csv\",\n",
      "      \"bytes\": 1897,\n",
      "      \"created_at\": 1698331647,\n",
      "      \"status\": \"processed\",\n",
      "      \"status_details\": null\n",
      "    },\n",
      "    {\n",
      "      \"object\": \"file\",\n",
      "      \"id\": \"file-CjejYDJ46D9tx1gKzPqW3f4q\",\n",
      "      \"purpose\": \"fine-tune\",\n",
      "      \"filename\": \"data.jsonl\",\n",
      "      \"bytes\": 9125,\n",
      "      \"created_at\": 1698333936,\n",
      "      \"status\": \"processed\",\n",
      "      \"status_details\": null\n",
      "    },\n",
      "    {\n",
      "      \"object\": \"file\",\n",
      "      \"id\": \"file-91654768yYryq0MYRaLGiOZW\",\n",
      "      \"purpose\": \"fine-tune\",\n",
      "      \"filename\": \"data.jsonl\",\n",
      "      \"bytes\": 8847,\n",
      "      \"created_at\": 1698336042,\n",
      "      \"status\": \"processed\",\n",
      "      \"status_details\": null\n",
      "    },\n",
      "    {\n",
      "      \"object\": \"file\",\n",
      "      \"id\": \"file-Iaj5Ig8PDfkAmMQGqB7p7lWv\",\n",
      "      \"purpose\": \"fine-tune-results\",\n",
      "      \"filename\": \"step_metrics.csv\",\n",
      "      \"bytes\": 2087,\n",
      "      \"created_at\": 1698336450,\n",
      "      \"status\": \"processed\",\n",
      "      \"status_details\": null\n",
      "    },\n",
      "    {\n",
      "      \"object\": \"file\",\n",
      "      \"id\": \"file-hIxI2NLHtWCnShMork6BsHnT\",\n",
      "      \"purpose\": \"fine-tune\",\n",
      "      \"filename\": \"data.jsonl\",\n",
      "      \"bytes\": 229,\n",
      "      \"created_at\": 1692849747,\n",
      "      \"status\": \"processed\",\n",
      "      \"status_details\": null\n",
      "    },\n",
      "    {\n",
      "      \"object\": \"file\",\n",
      "      \"id\": \"file-iWlcBmD72dw790L5Di2a6U4d\",\n",
      "      \"purpose\": \"fine-tune\",\n",
      "      \"filename\": \"data.jsonl\",\n",
      "      \"bytes\": 2942,\n",
      "      \"created_at\": 1696006469,\n",
      "      \"status\": \"processed\",\n",
      "      \"status_details\": null\n",
      "    },\n",
      "    {\n",
      "      \"object\": \"file\",\n",
      "      \"id\": \"file-jt73UldZPBkgtrR8lgZILOyp\",\n",
      "      \"purpose\": \"fine-tune\",\n",
      "      \"filename\": \"data.jsonl\",\n",
      "      \"bytes\": 2942,\n",
      "      \"created_at\": 1696006640,\n",
      "      \"status\": \"processed\",\n",
      "      \"status_details\": null\n",
      "    },\n",
      "    {\n",
      "      \"object\": \"file\",\n",
      "      \"id\": \"file-Ldhri93JwOamkRUsf6eICUBT\",\n",
      "      \"purpose\": \"fine-tune-results\",\n",
      "      \"filename\": \"step_metrics.csv\",\n",
      "      \"bytes\": 2055,\n",
      "      \"created_at\": 1698170645,\n",
      "      \"status\": \"processed\",\n",
      "      \"status_details\": null\n",
      "    },\n",
      "    {\n",
      "      \"object\": \"file\",\n",
      "      \"id\": \"file-uj74FoF8N5FAWrlksS5uBRBx\",\n",
      "      \"purpose\": \"fine-tune-results\",\n",
      "      \"filename\": \"step_metrics.csv\",\n",
      "      \"bytes\": 2074,\n",
      "      \"created_at\": 1698170719,\n",
      "      \"status\": \"processed\",\n",
      "      \"status_details\": null\n",
      "    },\n",
      "    {\n",
      "      \"object\": \"file\",\n",
      "      \"id\": \"file-i6El3pGBQ2NlDcgasOEsR6iK\",\n",
      "      \"purpose\": \"fine-tune-results\",\n",
      "      \"filename\": \"step_metrics.csv\",\n",
      "      \"bytes\": 2067,\n",
      "      \"created_at\": 1698174734,\n",
      "      \"status\": \"processed\",\n",
      "      \"status_details\": null\n",
      "    },\n",
      "    {\n",
      "      \"object\": \"file\",\n",
      "      \"id\": \"file-jgcE1ZRvHIFqWeUXWCgb57QO\",\n",
      "      \"purpose\": \"fine-tune\",\n",
      "      \"filename\": \"data.jsonl\",\n",
      "      \"bytes\": 8859,\n",
      "      \"created_at\": 1698170260,\n",
      "      \"status\": \"processed\",\n",
      "      \"status_details\": null\n",
      "    },\n",
      "    {\n",
      "      \"object\": \"file\",\n",
      "      \"id\": \"file-uggHHmLqwtScRMjz4rvxRDgq\",\n",
      "      \"purpose\": \"fine-tune\",\n",
      "      \"filename\": \"data.jsonl\",\n",
      "      \"bytes\": 8859,\n",
      "      \"created_at\": 1698174406,\n",
      "      \"status\": \"processed\",\n",
      "      \"status_details\": null\n",
      "    },\n",
      "    {\n",
      "      \"object\": \"file\",\n",
      "      \"id\": \"file-xgMwp4KlKvyhNhHDllneBwdq\",\n",
      "      \"purpose\": \"fine-tune\",\n",
      "      \"filename\": \"data.jsonl\",\n",
      "      \"bytes\": 8847,\n",
      "      \"created_at\": 1698779372,\n",
      "      \"status\": \"processed\",\n",
      "      \"status_details\": null\n",
      "    },\n",
      "    {\n",
      "      \"object\": \"file\",\n",
      "      \"id\": \"file-AKPxoUV4ccl0gAYzKEEZSU2V\",\n",
      "      \"purpose\": \"fine-tune-results\",\n",
      "      \"filename\": \"step_metrics.csv\",\n",
      "      \"bytes\": 2082,\n",
      "      \"created_at\": 1698779790,\n",
      "      \"status\": \"processed\",\n",
      "      \"status_details\": null\n",
      "    },\n",
      "    {\n",
      "      \"object\": \"file\",\n",
      "      \"id\": \"file-Epr2NwmbcG1DE2itFvp8yCUU\",\n",
      "      \"purpose\": \"fine-tune\",\n",
      "      \"filename\": \"data.jsonl\",\n",
      "      \"bytes\": 8846,\n",
      "      \"created_at\": 1698273892,\n",
      "      \"status\": \"processed\",\n",
      "      \"status_details\": null\n",
      "    }\n",
      "  ]\n",
      "}\n"
     ]
    }
   ],
   "source": [
    "# List Files\n",
    "\n",
    "LIST_URL = \"https://api.openai.com/v1/files\"\n",
    "list_result = make_get_request(LIST_URL)\n",
    "\n",
    "if list_result:\n",
    "    print(json.dumps(list_result, indent=2))"
   ]
  },
  {
   "cell_type": "code",
   "execution_count": 7,
   "id": "def14790-35a5-46c2-aabb-3ef9dad09ca9",
   "metadata": {
    "papermill": {
     "duration": 0.372251,
     "end_time": "2023-10-31T18:02:48.377196",
     "exception": true,
     "start_time": "2023-10-31T18:02:48.004945",
     "status": "failed"
    },
    "tags": []
   },
   "outputs": [
    {
     "name": "stdout",
     "output_type": "stream",
     "text": [
      "{\n",
      "  \"object\": \"file\",\n",
      "  \"id\": \"file-KkRsVNTSJoLB71SSE2omcku1\",\n",
      "  \"purpose\": \"fine-tune\",\n",
      "  \"filename\": \"data.jsonl\",\n",
      "  \"bytes\": 8847,\n",
      "  \"created_at\": 1698779899,\n",
      "  \"status\": \"processed\",\n",
      "  \"status_details\": null\n",
      "}\n"
     ]
    }
   ],
   "source": [
    "# Upload File\n",
    "\n",
    "UPLOAD_URL = \"https://api.openai.com/v1/files\"\n",
    "data = {\n",
    "    \"purpose\": \"fine-tune\"\n",
    "}\n",
    "files = {\n",
    "    \"file\": open(\"./data.jsonl\", \"rb\")\n",
    "}\n",
    "upload_result = make_post_request(UPLOAD_URL, data, files)\n",
    "\n",
    "if upload_result:\n",
    "    print(json.dumps(upload_result, indent=2))\n",
    "\n",
    "uploaded_file_id = upload_result[\"id\"]"
   ]
  },
  {
   "cell_type": "code",
   "execution_count": 8,
   "id": "45272f67-fc1a-49db-b6d6-38fbe95a7676",
   "metadata": {
    "papermill": {
     "duration": null,
     "end_time": null,
     "exception": null,
     "start_time": null,
     "status": "pending"
    },
    "tags": []
   },
   "outputs": [
    {
     "name": "stdout",
     "output_type": "stream",
     "text": [
      "{\n",
      "  \"object\": \"file\",\n",
      "  \"id\": \"file-KkRsVNTSJoLB71SSE2omcku1\",\n",
      "  \"purpose\": \"fine-tune\",\n",
      "  \"filename\": \"data.jsonl\",\n",
      "  \"bytes\": 8847,\n",
      "  \"created_at\": 1698779899,\n",
      "  \"status\": \"processed\",\n",
      "  \"status_details\": null\n",
      "}\n"
     ]
    }
   ],
   "source": [
    "# Retrieve File\n",
    "\n",
    "RETRIEVE_URL = f\"https://api.openai.com/v1/files/{uploaded_file_id}\"\n",
    "retrieve_result = make_get_request(RETRIEVE_URL)\n",
    "\n",
    "if retrieve_result:\n",
    "    print(json.dumps(retrieve_result, indent=2))"
   ]
  },
  {
   "cell_type": "code",
   "execution_count": 9,
   "id": "a97e3b2f-e3c2-4bc1-b27a-9c78d26c0378",
   "metadata": {
    "papermill": {
     "duration": null,
     "end_time": null,
     "exception": null,
     "start_time": null,
     "status": "pending"
    },
    "tags": []
   },
   "outputs": [
    {
     "name": "stdout",
     "output_type": "stream",
     "text": [
      "{\n",
      "  \"object\": \"file\",\n",
      "  \"id\": \"file-KkRsVNTSJoLB71SSE2omcku1\",\n",
      "  \"deleted\": true\n",
      "}\n"
     ]
    }
   ],
   "source": [
    "# Delete File\n",
    "\n",
    "DELETE_URL = f\"https://api.openai.com/v1/files/{uploaded_file_id}\"\n",
    "delete_result = make_delete_request(DELETE_URL)\n",
    "\n",
    "if delete_result:\n",
    "    print(json.dumps(delete_result, indent=2))"
   ]
  }
 ],
 "metadata": {
  "kernelspec": {
   "display_name": "Python 3 (ipykernel)",
   "language": "python",
   "name": "python3"
  },
  "language_info": {
   "codemirror_mode": {
    "name": "ipython",
    "version": 3
   },
   "file_extension": ".py",
   "mimetype": "text/x-python",
   "name": "python",
   "nbconvert_exporter": "python",
   "pygments_lexer": "ipython3",
   "version": "3.9.1"
  },
  "papermill": {
   "default_parameters": {},
   "duration": 2.333992,
   "end_time": "2023-10-31T18:02:48.604713",
   "environment_variables": {},
   "exception": true,
   "input_path": "m4/12-working-files/working_files.ipynb",
   "output_path": "m4/12-working-files/working_files.ipynb",
   "parameters": {},
   "start_time": "2023-10-31T18:02:46.270721",
   "version": "2.4.0"
  }
 },
 "nbformat": 4,
 "nbformat_minor": 5
}
