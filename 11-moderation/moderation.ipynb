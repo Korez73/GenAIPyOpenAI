{
 "cells": [
  {
   "cell_type": "markdown",
   "id": "e922a487-9a49-4362-96d3-7aacd8759f3a",
   "metadata": {
    "papermill": {
     "duration": 0.003071,
     "end_time": "2023-10-31T18:03:02.949243",
     "exception": false,
     "start_time": "2023-10-31T18:03:02.946172",
     "status": "completed"
    },
    "tags": []
   },
   "source": [
    "# Moderation"
   ]
  },
  {
   "cell_type": "code",
   "execution_count": 1,
   "id": "079c27df-d666-495a-8ba6-e78e98b840e0",
   "metadata": {
    "execution": {
     "iopub.execute_input": "2023-10-31T18:03:02.956321Z",
     "iopub.status.busy": "2023-10-31T18:03:02.955649Z",
     "iopub.status.idle": "2023-10-31T18:03:03.017217Z",
     "shell.execute_reply": "2023-10-31T18:03:03.016342Z"
    },
    "papermill": {
     "duration": 0.067211,
     "end_time": "2023-10-31T18:03:03.019447",
     "exception": false,
     "start_time": "2023-10-31T18:03:02.952236",
     "status": "completed"
    },
    "tags": []
   },
   "outputs": [],
   "source": [
    "import json\n",
    "import os\n",
    "import requests"
   ]
  },
  {
   "cell_type": "code",
   "execution_count": 2,
   "id": "b1b6105c-cc5f-43ae-b059-d9dba042f5de",
   "metadata": {
    "execution": {
     "iopub.execute_input": "2023-10-31T18:03:03.023321Z",
     "iopub.status.busy": "2023-10-31T18:03:03.023043Z",
     "iopub.status.idle": "2023-10-31T18:03:03.027905Z",
     "shell.execute_reply": "2023-10-31T18:03:03.027269Z"
    },
    "papermill": {
     "duration": 0.009146,
     "end_time": "2023-10-31T18:03:03.029991",
     "exception": false,
     "start_time": "2023-10-31T18:03:03.020845",
     "status": "completed"
    },
    "tags": []
   },
   "outputs": [],
   "source": [
    "# A recommended way to store the key is in an environment variable. For this demo, I am storing in a file.\n",
    "key_location = '/Users/xavier/github/xmorera/ps-generative-ai-developing-applications-python-openai/key/genaikey.txt'\n",
    "\n",
    "with open(key_location, 'r') as file:\n",
    "    key = file.readline().strip()"
   ]
  },
  {
   "cell_type": "code",
   "execution_count": 3,
   "id": "ab2ecac0-bcd8-4375-9489-e96650a3f26a",
   "metadata": {
    "execution": {
     "iopub.execute_input": "2023-10-31T18:03:03.033902Z",
     "iopub.status.busy": "2023-10-31T18:03:03.033610Z",
     "iopub.status.idle": "2023-10-31T18:03:03.565732Z",
     "shell.execute_reply": "2023-10-31T18:03:03.564786Z"
    },
    "papermill": {
     "duration": 0.536853,
     "end_time": "2023-10-31T18:03:03.568218",
     "exception": false,
     "start_time": "2023-10-31T18:03:03.031365",
     "status": "completed"
    },
    "tags": []
   },
   "outputs": [
    {
     "name": "stdout",
     "output_type": "stream",
     "text": [
      "{\n",
      "  \"id\": \"modr-8FnMt8u4Dv7GgfeUJ5bN1RA08aVQu\",\n",
      "  \"model\": \"text-moderation-006\",\n",
      "  \"results\": [\n",
      "    {\n",
      "      \"flagged\": true,\n",
      "      \"categories\": {\n",
      "        \"sexual\": false,\n",
      "        \"hate\": false,\n",
      "        \"harassment\": true,\n",
      "        \"self-harm\": false,\n",
      "        \"sexual/minors\": false,\n",
      "        \"hate/threatening\": false,\n",
      "        \"violence/graphic\": false,\n",
      "        \"self-harm/intent\": false,\n",
      "        \"self-harm/instructions\": false,\n",
      "        \"harassment/threatening\": true,\n",
      "        \"violence\": true\n",
      "      },\n",
      "      \"category_scores\": {\n",
      "        \"sexual\": 1.7565666894370224e-06,\n",
      "        \"hate\": 0.3416993021965027,\n",
      "        \"harassment\": 0.4745193421840668,\n",
      "        \"self-harm\": 1.1052927462174011e-09,\n",
      "        \"sexual/minors\": 3.551882628016756e-07,\n",
      "        \"hate/threatening\": 0.03023063763976097,\n",
      "        \"violence/graphic\": 1.5010262188752677e-07,\n",
      "        \"self-harm/intent\": 1.8565884940535682e-10,\n",
      "        \"self-harm/instructions\": 6.60529627955625e-13,\n",
      "        \"harassment/threatening\": 0.4030563235282898,\n",
      "        \"violence\": 0.9925811290740967\n",
      "      }\n",
      "    }\n",
      "  ]\n",
      "}\n"
     ]
    }
   ],
   "source": [
    "URL = \"https://api.openai.com/v1/moderations\"\n",
    "\n",
    "headers = {\n",
    "    'Content-Type': 'application/json',\n",
    "    'Authorization': f'Bearer {key}'\n",
    "}\n",
    "data = {\n",
    "    \"input\": \"I want to kill them.\"\n",
    "}\n",
    "\n",
    "response = requests.post(URL, headers=headers, json=data, timeout=20)\n",
    "result = response.json()\n",
    "\n",
    "if response:\n",
    "    print(json.dumps(result, indent=2))"
   ]
  }
 ],
 "metadata": {
  "kernelspec": {
   "display_name": "Python 3 (ipykernel)",
   "language": "python",
   "name": "python3"
  },
  "language_info": {
   "codemirror_mode": {
    "name": "ipython",
    "version": 3
   },
   "file_extension": ".py",
   "mimetype": "text/x-python",
   "name": "python",
   "nbconvert_exporter": "python",
   "pygments_lexer": "ipython3",
   "version": "3.9.1"
  },
  "papermill": {
   "default_parameters": {},
   "duration": 1.780037,
   "end_time": "2023-10-31T18:03:03.792923",
   "environment_variables": {},
   "exception": null,
   "input_path": "m4/11-moderation/moderation.ipynb",
   "output_path": "m4/11-moderation/moderation.ipynb",
   "parameters": {},
   "start_time": "2023-10-31T18:03:02.012886",
   "version": "2.4.0"
  }
 },
 "nbformat": 4,
 "nbformat_minor": 5
}