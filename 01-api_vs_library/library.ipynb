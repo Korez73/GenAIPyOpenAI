{
 "cells": [
  {
   "cell_type": "markdown",
   "id": "f08f6f33-4a22-42fe-b79c-a77d25860966",
   "metadata": {
    "papermill": {
     "duration": 0.004251,
     "end_time": "2023-10-31T17:52:19.756533",
     "exception": false,
     "start_time": "2023-10-31T17:52:19.752282",
     "status": "completed"
    },
    "tags": []
   },
   "source": [
    "# Using the OpenAI API with the Official Python Library\n",
    "\n",
    "https://github.com/openai/openai-python"
   ]
  },
  {
   "cell_type": "code",
   "execution_count": 4,
   "id": "aa356476-ac6f-4721-8204-a3ddd486b4a8",
   "metadata": {
    "papermill": {
     "duration": 0.012102,
     "end_time": "2023-10-31T17:52:19.772935",
     "exception": false,
     "start_time": "2023-10-31T17:52:19.760833",
     "status": "completed"
    },
    "tags": []
   },
   "outputs": [],
   "source": [
    "# !pip install openai"
   ]
  },
  {
   "cell_type": "code",
   "execution_count": 5,
   "id": "a4f8e8b9-a7ac-44f7-88d4-347892cf6d35",
   "metadata": {
    "papermill": {
     "duration": 0.137927,
     "end_time": "2023-10-31T17:52:19.913311",
     "exception": false,
     "start_time": "2023-10-31T17:52:19.775384",
     "status": "completed"
    },
    "tags": []
   },
   "outputs": [],
   "source": [
    "import openai\n",
    "import os"
   ]
  },
  {
   "cell_type": "code",
   "execution_count": 6,
   "id": "c45142d7-48de-49c2-b4d7-97d36264ba89",
   "metadata": {
    "papermill": {
     "duration": 0.008785,
     "end_time": "2023-10-31T17:52:19.924394",
     "exception": false,
     "start_time": "2023-10-31T17:52:19.915609",
     "status": "completed"
    },
    "tags": []
   },
   "outputs": [],
   "source": [
    "# A recommended way to store the key is in an environment variable. For this demo, I am storing in a file.\n",
    "key_location = 'D:/Repos/GenAIPyOpenAI/localkey.txt'\n",
    "\n",
    "with open(key_location, 'r') as file:\n",
    "    key = file.readline().strip()"
   ]
  },
  {
   "cell_type": "code",
   "execution_count": 7,
   "id": "dc245862-33ee-42b0-9a6b-9656eba46d6b",
   "metadata": {
    "papermill": {
     "duration": 0.007881,
     "end_time": "2023-10-31T17:52:19.934563",
     "exception": false,
     "start_time": "2023-10-31T17:52:19.926682",
     "status": "completed"
    },
    "tags": []
   },
   "outputs": [],
   "source": [
    "# Set the prompt\n",
    "prompt = \"The likelihood of winning the lottery \""
   ]
  },
  {
   "cell_type": "code",
   "execution_count": 8,
   "id": "bd256b1f-6918-4269-b6dc-a79697a2f72c",
   "metadata": {
    "papermill": {
     "duration": 0.446621,
     "end_time": "2023-10-31T17:52:20.383285",
     "exception": false,
     "start_time": "2023-10-31T17:52:19.936664",
     "status": "completed"
    },
    "tags": []
   },
   "outputs": [
    {
     "name": "stdout",
     "output_type": "stream",
     "text": [
      "Generated completion: The likelihood of winning the lottery 65 times in a row is equivalent to you becoming the human version of lottery machines.\n",
      "\n",
      "One of the male characters in the show Pennsylvania Lottery hopes that he’ll win 65 consecutive times. In this scenario, one in seven numbers he selects will be in\n"
     ]
    }
   ],
   "source": [
    "# Note: completion is legacy, but I still wanted to show you\n",
    "\n",
    "# Set the completion parameters\n",
    "completion_params = {\n",
    "    \"model\": \"davinci-002\",\n",
    "    \"prompt\": prompt,\n",
    "    \"max_tokens\": 50  # Maximum number of tokens for the completion\n",
    "}\n",
    "\n",
    "# Initialize the OpenAI API client\n",
    "openai.api_key = key\n",
    "\n",
    "# Call the OpenAI API to generate a completion\n",
    "response = openai.Completion.create(**completion_params)\n",
    "\n",
    "# Extract the generated completion from the API response\n",
    "completion_text = response.choices[0].text.strip()\n",
    "\n",
    "# Print the generated completion\n",
    "print(\"Generated completion:\", prompt + completion_text)"
   ]
  },
  {
   "cell_type": "code",
   "execution_count": 9,
   "id": "780a2562-27e5-4f5b-b9ff-7b2e89d35a96",
   "metadata": {
    "papermill": {
     "duration": 0.011234,
     "end_time": "2023-10-31T17:52:20.397806",
     "exception": false,
     "start_time": "2023-10-31T17:52:20.386572",
     "status": "completed"
    },
    "tags": []
   },
   "outputs": [
    {
     "name": "stdout",
     "output_type": "stream",
     "text": [
      "{\n",
      "  \"id\": \"cmpl-8OmVAzHbhdLCMyl1rzgkniiLPbHTH\",\n",
      "  \"object\": \"text_completion\",\n",
      "  \"created\": 1700917004,\n",
      "  \"model\": \"davinci-002\",\n",
      "  \"choices\": [\n",
      "    {\n",
      "      \"text\": \"65 times in a row is equivalent to you becoming the human version of lottery machines.\\n\\nOne of the male characters in the show Pennsylvania Lottery hopes that he\\u2019ll win 65 consecutive times. In this scenario, one in seven numbers he selects will be in\",\n",
      "      \"index\": 0,\n",
      "      \"logprobs\": null,\n",
      "      \"finish_reason\": \"length\"\n",
      "    }\n",
      "  ],\n",
      "  \"usage\": {\n",
      "    \"prompt_tokens\": 7,\n",
      "    \"completion_tokens\": 50,\n",
      "    \"total_tokens\": 57\n",
      "  }\n",
      "}\n"
     ]
    }
   ],
   "source": [
    "print(response)"
   ]
  },
  {
   "cell_type": "code",
   "execution_count": 10,
   "id": "3a752f32-5b5f-48fe-a31b-c9ac227024cb",
   "metadata": {
    "papermill": {
     "duration": 0.009775,
     "end_time": "2023-10-31T17:52:20.410276",
     "exception": false,
     "start_time": "2023-10-31T17:52:20.400501",
     "status": "completed"
    },
    "tags": []
   },
   "outputs": [],
   "source": [
    "# Set parameters \n",
    "conversation = [\n",
    "    {\"role\": \"user\", \"content\": \"The likelihood of winning the lottery?\"}\n",
    "]"
   ]
  },
  {
   "cell_type": "code",
   "execution_count": 11,
   "id": "d1fe76ce-336e-4c46-a69c-0ccf808f452c",
   "metadata": {
    "papermill": {
     "duration": 601.055635,
     "end_time": "2023-10-31T18:02:21.468639",
     "exception": true,
     "start_time": "2023-10-31T17:52:20.413004",
     "status": "failed"
    },
    "tags": []
   },
   "outputs": [],
   "source": [
    "# Create a chat completion and invoke it\n",
    "response = openai.ChatCompletion.create(\n",
    "    model=\"gpt-3.5-turbo\",\n",
    "    messages=conversation\n",
    ")"
   ]
  },
  {
   "cell_type": "code",
   "execution_count": 12,
   "id": "6d12991b-fc9a-4b69-8956-868df7c26e88",
   "metadata": {
    "papermill": {
     "duration": null,
     "end_time": null,
     "exception": null,
     "start_time": null,
     "status": "pending"
    },
    "tags": []
   },
   "outputs": [],
   "source": [
    "# Extract and print the reply\n",
    "reply = response['choices'][0]['message']['content']"
   ]
  },
  {
   "cell_type": "code",
   "execution_count": 13,
   "id": "6c098a3d-ebae-4153-b34a-f1d0ae72c5c6",
   "metadata": {
    "papermill": {
     "duration": null,
     "end_time": null,
     "exception": null,
     "start_time": null,
     "status": "pending"
    },
    "tags": []
   },
   "outputs": [
    {
     "name": "stdout",
     "output_type": "stream",
     "text": [
      "The likelihood of winning the lottery varies depending on the specific lottery game and the number of tickets sold. In general, the odds of winning a large jackpot in a typical national lottery are very low. For instance, the odds of winning the Powerball jackpot in the United States are approximately 1 in 292 million, while the odds of winning the Mega Millions jackpot are about 1 in 302 million.\n",
      "\n",
      "It's important to note that winning smaller prizes or matching some numbers in a lottery draw usually have better odds. The exact odds depend on the specific lottery and the prize tier. Many lotteries also offer different games or options with better odds, such as scratch-off tickets.\n",
      "\n",
      "Ultimately, winning the lottery is purely a matter of chance. It's crucial to approach playing the lottery with a responsible mindset and awareness that winning is highly unlikely.\n"
     ]
    }
   ],
   "source": [
    "print(reply)"
   ]
  }
 ],
 "metadata": {
  "kernelspec": {
   "display_name": "Python 3 (ipykernel)",
   "language": "python",
   "name": "python3"
  },
  "language_info": {
   "codemirror_mode": {
    "name": "ipython",
    "version": 3
   },
   "file_extension": ".py",
   "mimetype": "text/x-python",
   "name": "python",
   "nbconvert_exporter": "python",
   "pygments_lexer": "ipython3",
   "version": "3.9.13"
  },
  "papermill": {
   "default_parameters": {},
   "duration": 602.980358,
   "end_time": "2023-10-31T18:02:21.799408",
   "environment_variables": {},
   "exception": true,
   "input_path": "m4/01-api_vs_library/library.ipynb",
   "output_path": "m4/01-api_vs_library/library.ipynb",
   "parameters": {},
   "start_time": "2023-10-31T17:52:18.819050",
   "version": "2.4.0"
  }
 },
 "nbformat": 4,
 "nbformat_minor": 5
}
